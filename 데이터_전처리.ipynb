{
  "nbformat": 4,
  "nbformat_minor": 0,
  "metadata": {
    "colab": {
      "name": "데이터 전처리.ipynb",
      "provenance": [],
      "include_colab_link": true
    },
    "kernelspec": {
      "name": "python3",
      "display_name": "Python 3"
    },
    "language_info": {
      "name": "python"
    }
  },
  "cells": [
    {
      "cell_type": "markdown",
      "metadata": {
        "id": "view-in-github",
        "colab_type": "text"
      },
      "source": [
        "<a href=\"https://colab.research.google.com/github/kimhj010502/datamentoring/blob/main/%EB%8D%B0%EC%9D%B4%ED%84%B0_%EC%A0%84%EC%B2%98%EB%A6%AC.ipynb\" target=\"_parent\"><img src=\"https://colab.research.google.com/assets/colab-badge.svg\" alt=\"Open In Colab\"/></a>"
      ]
    },
    {
      "cell_type": "code",
      "source": [
        "from google.colab import drive\n",
        "drive.mount('/content/drive')"
      ],
      "metadata": {
        "id": "knG-vbo8U7HK",
        "colab": {
          "base_uri": "https://localhost:8080/"
        },
        "outputId": "b0cce96f-4cf2-4ff6-defc-8fb17d5df109"
      },
      "execution_count": 1,
      "outputs": [
        {
          "output_type": "stream",
          "name": "stdout",
          "text": [
            "Mounted at /content/drive\n"
          ]
        }
      ]
    },
    {
      "cell_type": "code",
      "source": [
        "import pandas as pd"
      ],
      "metadata": {
        "id": "uwS8fXQ2TiiA"
      },
      "execution_count": 2,
      "outputs": []
    },
    {
      "cell_type": "markdown",
      "source": [
        "## 서울시 어린이 교통사고 데이터 로딩 및 1차 전처리"
      ],
      "metadata": {
        "id": "BOcqPr55HcGD"
      }
    },
    {
      "cell_type": "code",
      "source": [
        "accident = pd.read_csv('/content/drive/MyDrive/거북R/데멘토/Data/accident.csv')"
      ],
      "metadata": {
        "id": "J10EHqmcHuhw"
      },
      "execution_count": 3,
      "outputs": []
    },
    {
      "cell_type": "code",
      "source": [
        "len(accident)"
      ],
      "metadata": {
        "colab": {
          "base_uri": "https://localhost:8080/"
        },
        "id": "pXb-ljHfIDj7",
        "outputId": "31dd18f9-193b-4ab0-d78b-e66dd9beb447"
      },
      "execution_count": 4,
      "outputs": [
        {
          "output_type": "execute_result",
          "data": {
            "text/plain": [
              "1801"
            ]
          },
          "metadata": {},
          "execution_count": 4
        }
      ]
    },
    {
      "cell_type": "code",
      "source": [
        "accident.head()"
      ],
      "metadata": {
        "colab": {
          "base_uri": "https://localhost:8080/",
          "height": 384
        },
        "id": "n9Mxs1G7IAKw",
        "outputId": "e1fd162f-fce3-4dad-93fe-f26b48b7e2e0"
      },
      "execution_count": 5,
      "outputs": [
        {
          "output_type": "execute_result",
          "data": {
            "text/plain": [
              "           사고번호              사고일시     연  월   일   시   요일    구    동  사고내용  ...  \\\n",
              "0  2.017010e+15   2017년 1월 4일 19시  2017  1   4  19  수요일  관악구  신림동  경상사고  ...   \n",
              "1  2.017012e+15  2017년 1월 18일 13시  2017  1  18  13  수요일  관악구  신림동  중상사고  ...   \n",
              "2  2.017023e+15  2017년 2월 27일 17시  2017  2  27  17  월요일  관악구  신림동  경상사고  ...   \n",
              "3  2.017030e+15   2017년 3월 3일 13시  2017  3   3  13  금요일  관악구  봉천동  경상사고  ...   \n",
              "4  2.017042e+15  2017년 4월 17일 16시  2017  4  17  16  월요일  관악구  신림동  경상사고  ...   \n",
              "\n",
              "         노면상태  기상상태  도로형태      도로상세 가해운전자 성별 가해운전자 연령 가해운전자 상해정도 피해운전자 성별  \\\n",
              "0     포장 - 건조    맑음   교차로     교차로부근        남       57       상해없음        남   \n",
              "1     포장 - 건조    맑음   교차로      교차로안        남       59       상해없음        남   \n",
              "2     포장 - 건조    맑음   교차로      교차로안        남       45       상해없음        여   \n",
              "3     포장 - 건조    맑음   교차로  교차로횡단보도내        여       41       상해없음        남   \n",
              "4  포장 - 젖음/습기    흐림   교차로  교차로횡단보도내        남       59       부상신고        남   \n",
              "\n",
              "  피해운전자 연령 피해운전자 상해정도  \n",
              "0        8         경상  \n",
              "1        8         중상  \n",
              "2       62         경상  \n",
              "3        7         경상  \n",
              "4        6         경상  \n",
              "\n",
              "[5 rows x 26 columns]"
            ],
            "text/html": [
              "\n",
              "  <div id=\"df-f9b52419-a2b0-4140-8389-e293b26c4b73\">\n",
              "    <div class=\"colab-df-container\">\n",
              "      <div>\n",
              "<style scoped>\n",
              "    .dataframe tbody tr th:only-of-type {\n",
              "        vertical-align: middle;\n",
              "    }\n",
              "\n",
              "    .dataframe tbody tr th {\n",
              "        vertical-align: top;\n",
              "    }\n",
              "\n",
              "    .dataframe thead th {\n",
              "        text-align: right;\n",
              "    }\n",
              "</style>\n",
              "<table border=\"1\" class=\"dataframe\">\n",
              "  <thead>\n",
              "    <tr style=\"text-align: right;\">\n",
              "      <th></th>\n",
              "      <th>사고번호</th>\n",
              "      <th>사고일시</th>\n",
              "      <th>연</th>\n",
              "      <th>월</th>\n",
              "      <th>일</th>\n",
              "      <th>시</th>\n",
              "      <th>요일</th>\n",
              "      <th>구</th>\n",
              "      <th>동</th>\n",
              "      <th>사고내용</th>\n",
              "      <th>...</th>\n",
              "      <th>노면상태</th>\n",
              "      <th>기상상태</th>\n",
              "      <th>도로형태</th>\n",
              "      <th>도로상세</th>\n",
              "      <th>가해운전자 성별</th>\n",
              "      <th>가해운전자 연령</th>\n",
              "      <th>가해운전자 상해정도</th>\n",
              "      <th>피해운전자 성별</th>\n",
              "      <th>피해운전자 연령</th>\n",
              "      <th>피해운전자 상해정도</th>\n",
              "    </tr>\n",
              "  </thead>\n",
              "  <tbody>\n",
              "    <tr>\n",
              "      <th>0</th>\n",
              "      <td>2.017010e+15</td>\n",
              "      <td>2017년 1월 4일 19시</td>\n",
              "      <td>2017</td>\n",
              "      <td>1</td>\n",
              "      <td>4</td>\n",
              "      <td>19</td>\n",
              "      <td>수요일</td>\n",
              "      <td>관악구</td>\n",
              "      <td>신림동</td>\n",
              "      <td>경상사고</td>\n",
              "      <td>...</td>\n",
              "      <td>포장 - 건조</td>\n",
              "      <td>맑음</td>\n",
              "      <td>교차로</td>\n",
              "      <td>교차로부근</td>\n",
              "      <td>남</td>\n",
              "      <td>57</td>\n",
              "      <td>상해없음</td>\n",
              "      <td>남</td>\n",
              "      <td>8</td>\n",
              "      <td>경상</td>\n",
              "    </tr>\n",
              "    <tr>\n",
              "      <th>1</th>\n",
              "      <td>2.017012e+15</td>\n",
              "      <td>2017년 1월 18일 13시</td>\n",
              "      <td>2017</td>\n",
              "      <td>1</td>\n",
              "      <td>18</td>\n",
              "      <td>13</td>\n",
              "      <td>수요일</td>\n",
              "      <td>관악구</td>\n",
              "      <td>신림동</td>\n",
              "      <td>중상사고</td>\n",
              "      <td>...</td>\n",
              "      <td>포장 - 건조</td>\n",
              "      <td>맑음</td>\n",
              "      <td>교차로</td>\n",
              "      <td>교차로안</td>\n",
              "      <td>남</td>\n",
              "      <td>59</td>\n",
              "      <td>상해없음</td>\n",
              "      <td>남</td>\n",
              "      <td>8</td>\n",
              "      <td>중상</td>\n",
              "    </tr>\n",
              "    <tr>\n",
              "      <th>2</th>\n",
              "      <td>2.017023e+15</td>\n",
              "      <td>2017년 2월 27일 17시</td>\n",
              "      <td>2017</td>\n",
              "      <td>2</td>\n",
              "      <td>27</td>\n",
              "      <td>17</td>\n",
              "      <td>월요일</td>\n",
              "      <td>관악구</td>\n",
              "      <td>신림동</td>\n",
              "      <td>경상사고</td>\n",
              "      <td>...</td>\n",
              "      <td>포장 - 건조</td>\n",
              "      <td>맑음</td>\n",
              "      <td>교차로</td>\n",
              "      <td>교차로안</td>\n",
              "      <td>남</td>\n",
              "      <td>45</td>\n",
              "      <td>상해없음</td>\n",
              "      <td>여</td>\n",
              "      <td>62</td>\n",
              "      <td>경상</td>\n",
              "    </tr>\n",
              "    <tr>\n",
              "      <th>3</th>\n",
              "      <td>2.017030e+15</td>\n",
              "      <td>2017년 3월 3일 13시</td>\n",
              "      <td>2017</td>\n",
              "      <td>3</td>\n",
              "      <td>3</td>\n",
              "      <td>13</td>\n",
              "      <td>금요일</td>\n",
              "      <td>관악구</td>\n",
              "      <td>봉천동</td>\n",
              "      <td>경상사고</td>\n",
              "      <td>...</td>\n",
              "      <td>포장 - 건조</td>\n",
              "      <td>맑음</td>\n",
              "      <td>교차로</td>\n",
              "      <td>교차로횡단보도내</td>\n",
              "      <td>여</td>\n",
              "      <td>41</td>\n",
              "      <td>상해없음</td>\n",
              "      <td>남</td>\n",
              "      <td>7</td>\n",
              "      <td>경상</td>\n",
              "    </tr>\n",
              "    <tr>\n",
              "      <th>4</th>\n",
              "      <td>2.017042e+15</td>\n",
              "      <td>2017년 4월 17일 16시</td>\n",
              "      <td>2017</td>\n",
              "      <td>4</td>\n",
              "      <td>17</td>\n",
              "      <td>16</td>\n",
              "      <td>월요일</td>\n",
              "      <td>관악구</td>\n",
              "      <td>신림동</td>\n",
              "      <td>경상사고</td>\n",
              "      <td>...</td>\n",
              "      <td>포장 - 젖음/습기</td>\n",
              "      <td>흐림</td>\n",
              "      <td>교차로</td>\n",
              "      <td>교차로횡단보도내</td>\n",
              "      <td>남</td>\n",
              "      <td>59</td>\n",
              "      <td>부상신고</td>\n",
              "      <td>남</td>\n",
              "      <td>6</td>\n",
              "      <td>경상</td>\n",
              "    </tr>\n",
              "  </tbody>\n",
              "</table>\n",
              "<p>5 rows × 26 columns</p>\n",
              "</div>\n",
              "      <button class=\"colab-df-convert\" onclick=\"convertToInteractive('df-f9b52419-a2b0-4140-8389-e293b26c4b73')\"\n",
              "              title=\"Convert this dataframe to an interactive table.\"\n",
              "              style=\"display:none;\">\n",
              "        \n",
              "  <svg xmlns=\"http://www.w3.org/2000/svg\" height=\"24px\"viewBox=\"0 0 24 24\"\n",
              "       width=\"24px\">\n",
              "    <path d=\"M0 0h24v24H0V0z\" fill=\"none\"/>\n",
              "    <path d=\"M18.56 5.44l.94 2.06.94-2.06 2.06-.94-2.06-.94-.94-2.06-.94 2.06-2.06.94zm-11 1L8.5 8.5l.94-2.06 2.06-.94-2.06-.94L8.5 2.5l-.94 2.06-2.06.94zm10 10l.94 2.06.94-2.06 2.06-.94-2.06-.94-.94-2.06-.94 2.06-2.06.94z\"/><path d=\"M17.41 7.96l-1.37-1.37c-.4-.4-.92-.59-1.43-.59-.52 0-1.04.2-1.43.59L10.3 9.45l-7.72 7.72c-.78.78-.78 2.05 0 2.83L4 21.41c.39.39.9.59 1.41.59.51 0 1.02-.2 1.41-.59l7.78-7.78 2.81-2.81c.8-.78.8-2.07 0-2.86zM5.41 20L4 18.59l7.72-7.72 1.47 1.35L5.41 20z\"/>\n",
              "  </svg>\n",
              "      </button>\n",
              "      \n",
              "  <style>\n",
              "    .colab-df-container {\n",
              "      display:flex;\n",
              "      flex-wrap:wrap;\n",
              "      gap: 12px;\n",
              "    }\n",
              "\n",
              "    .colab-df-convert {\n",
              "      background-color: #E8F0FE;\n",
              "      border: none;\n",
              "      border-radius: 50%;\n",
              "      cursor: pointer;\n",
              "      display: none;\n",
              "      fill: #1967D2;\n",
              "      height: 32px;\n",
              "      padding: 0 0 0 0;\n",
              "      width: 32px;\n",
              "    }\n",
              "\n",
              "    .colab-df-convert:hover {\n",
              "      background-color: #E2EBFA;\n",
              "      box-shadow: 0px 1px 2px rgba(60, 64, 67, 0.3), 0px 1px 3px 1px rgba(60, 64, 67, 0.15);\n",
              "      fill: #174EA6;\n",
              "    }\n",
              "\n",
              "    [theme=dark] .colab-df-convert {\n",
              "      background-color: #3B4455;\n",
              "      fill: #D2E3FC;\n",
              "    }\n",
              "\n",
              "    [theme=dark] .colab-df-convert:hover {\n",
              "      background-color: #434B5C;\n",
              "      box-shadow: 0px 1px 3px 1px rgba(0, 0, 0, 0.15);\n",
              "      filter: drop-shadow(0px 1px 2px rgba(0, 0, 0, 0.3));\n",
              "      fill: #FFFFFF;\n",
              "    }\n",
              "  </style>\n",
              "\n",
              "      <script>\n",
              "        const buttonEl =\n",
              "          document.querySelector('#df-f9b52419-a2b0-4140-8389-e293b26c4b73 button.colab-df-convert');\n",
              "        buttonEl.style.display =\n",
              "          google.colab.kernel.accessAllowed ? 'block' : 'none';\n",
              "\n",
              "        async function convertToInteractive(key) {\n",
              "          const element = document.querySelector('#df-f9b52419-a2b0-4140-8389-e293b26c4b73');\n",
              "          const dataTable =\n",
              "            await google.colab.kernel.invokeFunction('convertToInteractive',\n",
              "                                                     [key], {});\n",
              "          if (!dataTable) return;\n",
              "\n",
              "          const docLinkHtml = 'Like what you see? Visit the ' +\n",
              "            '<a target=\"_blank\" href=https://colab.research.google.com/notebooks/data_table.ipynb>data table notebook</a>'\n",
              "            + ' to learn more about interactive tables.';\n",
              "          element.innerHTML = '';\n",
              "          dataTable['output_type'] = 'display_data';\n",
              "          await google.colab.output.renderOutput(dataTable, element);\n",
              "          const docLink = document.createElement('div');\n",
              "          docLink.innerHTML = docLinkHtml;\n",
              "          element.appendChild(docLink);\n",
              "        }\n",
              "      </script>\n",
              "    </div>\n",
              "  </div>\n",
              "  "
            ]
          },
          "metadata": {},
          "execution_count": 5
        }
      ]
    },
    {
      "cell_type": "code",
      "source": [
        "accident.info()"
      ],
      "metadata": {
        "colab": {
          "base_uri": "https://localhost:8080/"
        },
        "id": "iju6NovRIBVb",
        "outputId": "4f94edff-7823-46df-aa34-e52879addf61"
      },
      "execution_count": 6,
      "outputs": [
        {
          "output_type": "stream",
          "name": "stdout",
          "text": [
            "<class 'pandas.core.frame.DataFrame'>\n",
            "RangeIndex: 1801 entries, 0 to 1800\n",
            "Data columns (total 26 columns):\n",
            " #   Column      Non-Null Count  Dtype  \n",
            "---  ------      --------------  -----  \n",
            " 0   사고번호        1801 non-null   float64\n",
            " 1   사고일시        1801 non-null   object \n",
            " 2   연           1801 non-null   int64  \n",
            " 3   월           1801 non-null   int64  \n",
            " 4   일           1801 non-null   int64  \n",
            " 5   시           1801 non-null   int64  \n",
            " 6   요일          1801 non-null   object \n",
            " 7   구           1801 non-null   object \n",
            " 8   동           1801 non-null   object \n",
            " 9   사고내용        1801 non-null   object \n",
            " 10  사망자수        1801 non-null   int64  \n",
            " 11  중상자수        1801 non-null   int64  \n",
            " 12  경상자수        1801 non-null   int64  \n",
            " 13  부상신고자수      1801 non-null   int64  \n",
            " 14  사고유형        1801 non-null   object \n",
            " 15  법규위반        1801 non-null   object \n",
            " 16  노면상태        1801 non-null   object \n",
            " 17  기상상태        1801 non-null   object \n",
            " 18  도로형태        1801 non-null   object \n",
            " 19  도로상세        1801 non-null   object \n",
            " 20  가해운전자 성별    1801 non-null   object \n",
            " 21  가해운전자 연령    1801 non-null   object \n",
            " 22  가해운전자 상해정도  1801 non-null   object \n",
            " 23  피해운전자 성별    1801 non-null   object \n",
            " 24  피해운전자 연령    1801 non-null   object \n",
            " 25  피해운전자 상해정도  1801 non-null   object \n",
            "dtypes: float64(1), int64(8), object(17)\n",
            "memory usage: 366.0+ KB\n"
          ]
        }
      ]
    },
    {
      "cell_type": "code",
      "source": [
        "#필요없는 값 삭제\n",
        "index1 = accident[(accident['피해운전자 연령']=='미분류') | (accident['피해운전자 연령']=='90  이상')].index\n",
        "accident.drop(index1,inplace=True)"
      ],
      "metadata": {
        "id": "wIII-255C-Z5"
      },
      "execution_count": 7,
      "outputs": []
    },
    {
      "cell_type": "code",
      "source": [
        "#가해운전자 연령 미분류를 0살로 바꾸기\n",
        "accident['가해운전자 연령'].replace('미분류',0,inplace=True)"
      ],
      "metadata": {
        "id": "d5wSPCxhDA6v"
      },
      "execution_count": 8,
      "outputs": []
    },
    {
      "cell_type": "code",
      "source": [
        "#연령 object형에서 int형으로 형변환\n",
        "accident = accident.astype({'피해운전자 연령':'int','가해운전자 연령':'int'})"
      ],
      "metadata": {
        "id": "yXegTNgkDDHH"
      },
      "execution_count": 9,
      "outputs": []
    },
    {
      "cell_type": "code",
      "source": [
        "index2 = accident[accident['피해운전자 연령']>12].index\n",
        "accident.drop(index2,inplace=True)"
      ],
      "metadata": {
        "id": "TWxQWzVpDGwv"
      },
      "execution_count": 10,
      "outputs": []
    },
    {
      "cell_type": "code",
      "source": [
        "#가해운전자, 피해운전자 상해정도 라벨인코딩\n",
        "# 부상신고사고 - 1, 경상사고 - 2, 중상사고 - 3, 사망사고 - 4\n",
        "accident['사고내용'].replace('부상신고사고',1,inplace=True)\n",
        "accident['사고내용'].replace('경상사고',2,inplace=True)\n",
        "accident['사고내용'].replace('중상사고',3,inplace=True)\n",
        "accident['사고내용'].replace('사망사고',4,inplace=True)"
      ],
      "metadata": {
        "id": "hQlM3FmIDHId"
      },
      "execution_count": 11,
      "outputs": []
    },
    {
      "cell_type": "code",
      "source": [
        "#삭제된 데이터를 제외하고 index 초기화\n",
        "accident.reset_index(inplace=True)"
      ],
      "metadata": {
        "id": "o7aEBRxIDMnc"
      },
      "execution_count": 12,
      "outputs": []
    },
    {
      "cell_type": "code",
      "source": [
        "len(accident)"
      ],
      "metadata": {
        "colab": {
          "base_uri": "https://localhost:8080/"
        },
        "id": "8ahp6W1aDSC4",
        "outputId": "bbf4575d-92a2-4917-fd2c-7887a61cf493"
      },
      "execution_count": 13,
      "outputs": [
        {
          "output_type": "execute_result",
          "data": {
            "text/plain": [
              "1670"
            ]
          },
          "metadata": {},
          "execution_count": 13
        }
      ]
    },
    {
      "cell_type": "code",
      "source": [
        "accident.head()"
      ],
      "metadata": {
        "colab": {
          "base_uri": "https://localhost:8080/",
          "height": 384
        },
        "id": "bREPrDCfH9gs",
        "outputId": "4e9270a6-77b5-40f9-e32c-51603a584c36"
      },
      "execution_count": 14,
      "outputs": [
        {
          "output_type": "execute_result",
          "data": {
            "text/plain": [
              "   index          사고번호              사고일시     연  월   일   시   요일    구    동  ...  \\\n",
              "0      0  2.017010e+15   2017년 1월 4일 19시  2017  1   4  19  수요일  관악구  신림동  ...   \n",
              "1      1  2.017012e+15  2017년 1월 18일 13시  2017  1  18  13  수요일  관악구  신림동  ...   \n",
              "2      3  2.017030e+15   2017년 3월 3일 13시  2017  3   3  13  금요일  관악구  봉천동  ...   \n",
              "3      4  2.017042e+15  2017년 4월 17일 16시  2017  4  17  16  월요일  관악구  신림동  ...   \n",
              "4      5  2.017042e+15  2017년 4월 17일 19시  2017  4  17  19  월요일  관악구  신림동  ...   \n",
              "\n",
              "         노면상태  기상상태  도로형태      도로상세  가해운전자 성별 가해운전자 연령 가해운전자 상해정도 피해운전자 성별  \\\n",
              "0     포장 - 건조    맑음   교차로     교차로부근         남       57       상해없음        남   \n",
              "1     포장 - 건조    맑음   교차로      교차로안         남       59       상해없음        남   \n",
              "2     포장 - 건조    맑음   교차로  교차로횡단보도내         여       41       상해없음        남   \n",
              "3  포장 - 젖음/습기    흐림   교차로  교차로횡단보도내         남       59       부상신고        남   \n",
              "4     포장 - 건조    맑음   교차로      교차로안         남       52       상해없음        남   \n",
              "\n",
              "  피해운전자 연령 피해운전자 상해정도  \n",
              "0        8         경상  \n",
              "1        8         중상  \n",
              "2        7         경상  \n",
              "3        6         경상  \n",
              "4        9       부상신고  \n",
              "\n",
              "[5 rows x 27 columns]"
            ],
            "text/html": [
              "\n",
              "  <div id=\"df-92a379cc-8f83-4456-943f-cbdd28dd4b22\">\n",
              "    <div class=\"colab-df-container\">\n",
              "      <div>\n",
              "<style scoped>\n",
              "    .dataframe tbody tr th:only-of-type {\n",
              "        vertical-align: middle;\n",
              "    }\n",
              "\n",
              "    .dataframe tbody tr th {\n",
              "        vertical-align: top;\n",
              "    }\n",
              "\n",
              "    .dataframe thead th {\n",
              "        text-align: right;\n",
              "    }\n",
              "</style>\n",
              "<table border=\"1\" class=\"dataframe\">\n",
              "  <thead>\n",
              "    <tr style=\"text-align: right;\">\n",
              "      <th></th>\n",
              "      <th>index</th>\n",
              "      <th>사고번호</th>\n",
              "      <th>사고일시</th>\n",
              "      <th>연</th>\n",
              "      <th>월</th>\n",
              "      <th>일</th>\n",
              "      <th>시</th>\n",
              "      <th>요일</th>\n",
              "      <th>구</th>\n",
              "      <th>동</th>\n",
              "      <th>...</th>\n",
              "      <th>노면상태</th>\n",
              "      <th>기상상태</th>\n",
              "      <th>도로형태</th>\n",
              "      <th>도로상세</th>\n",
              "      <th>가해운전자 성별</th>\n",
              "      <th>가해운전자 연령</th>\n",
              "      <th>가해운전자 상해정도</th>\n",
              "      <th>피해운전자 성별</th>\n",
              "      <th>피해운전자 연령</th>\n",
              "      <th>피해운전자 상해정도</th>\n",
              "    </tr>\n",
              "  </thead>\n",
              "  <tbody>\n",
              "    <tr>\n",
              "      <th>0</th>\n",
              "      <td>0</td>\n",
              "      <td>2.017010e+15</td>\n",
              "      <td>2017년 1월 4일 19시</td>\n",
              "      <td>2017</td>\n",
              "      <td>1</td>\n",
              "      <td>4</td>\n",
              "      <td>19</td>\n",
              "      <td>수요일</td>\n",
              "      <td>관악구</td>\n",
              "      <td>신림동</td>\n",
              "      <td>...</td>\n",
              "      <td>포장 - 건조</td>\n",
              "      <td>맑음</td>\n",
              "      <td>교차로</td>\n",
              "      <td>교차로부근</td>\n",
              "      <td>남</td>\n",
              "      <td>57</td>\n",
              "      <td>상해없음</td>\n",
              "      <td>남</td>\n",
              "      <td>8</td>\n",
              "      <td>경상</td>\n",
              "    </tr>\n",
              "    <tr>\n",
              "      <th>1</th>\n",
              "      <td>1</td>\n",
              "      <td>2.017012e+15</td>\n",
              "      <td>2017년 1월 18일 13시</td>\n",
              "      <td>2017</td>\n",
              "      <td>1</td>\n",
              "      <td>18</td>\n",
              "      <td>13</td>\n",
              "      <td>수요일</td>\n",
              "      <td>관악구</td>\n",
              "      <td>신림동</td>\n",
              "      <td>...</td>\n",
              "      <td>포장 - 건조</td>\n",
              "      <td>맑음</td>\n",
              "      <td>교차로</td>\n",
              "      <td>교차로안</td>\n",
              "      <td>남</td>\n",
              "      <td>59</td>\n",
              "      <td>상해없음</td>\n",
              "      <td>남</td>\n",
              "      <td>8</td>\n",
              "      <td>중상</td>\n",
              "    </tr>\n",
              "    <tr>\n",
              "      <th>2</th>\n",
              "      <td>3</td>\n",
              "      <td>2.017030e+15</td>\n",
              "      <td>2017년 3월 3일 13시</td>\n",
              "      <td>2017</td>\n",
              "      <td>3</td>\n",
              "      <td>3</td>\n",
              "      <td>13</td>\n",
              "      <td>금요일</td>\n",
              "      <td>관악구</td>\n",
              "      <td>봉천동</td>\n",
              "      <td>...</td>\n",
              "      <td>포장 - 건조</td>\n",
              "      <td>맑음</td>\n",
              "      <td>교차로</td>\n",
              "      <td>교차로횡단보도내</td>\n",
              "      <td>여</td>\n",
              "      <td>41</td>\n",
              "      <td>상해없음</td>\n",
              "      <td>남</td>\n",
              "      <td>7</td>\n",
              "      <td>경상</td>\n",
              "    </tr>\n",
              "    <tr>\n",
              "      <th>3</th>\n",
              "      <td>4</td>\n",
              "      <td>2.017042e+15</td>\n",
              "      <td>2017년 4월 17일 16시</td>\n",
              "      <td>2017</td>\n",
              "      <td>4</td>\n",
              "      <td>17</td>\n",
              "      <td>16</td>\n",
              "      <td>월요일</td>\n",
              "      <td>관악구</td>\n",
              "      <td>신림동</td>\n",
              "      <td>...</td>\n",
              "      <td>포장 - 젖음/습기</td>\n",
              "      <td>흐림</td>\n",
              "      <td>교차로</td>\n",
              "      <td>교차로횡단보도내</td>\n",
              "      <td>남</td>\n",
              "      <td>59</td>\n",
              "      <td>부상신고</td>\n",
              "      <td>남</td>\n",
              "      <td>6</td>\n",
              "      <td>경상</td>\n",
              "    </tr>\n",
              "    <tr>\n",
              "      <th>4</th>\n",
              "      <td>5</td>\n",
              "      <td>2.017042e+15</td>\n",
              "      <td>2017년 4월 17일 19시</td>\n",
              "      <td>2017</td>\n",
              "      <td>4</td>\n",
              "      <td>17</td>\n",
              "      <td>19</td>\n",
              "      <td>월요일</td>\n",
              "      <td>관악구</td>\n",
              "      <td>신림동</td>\n",
              "      <td>...</td>\n",
              "      <td>포장 - 건조</td>\n",
              "      <td>맑음</td>\n",
              "      <td>교차로</td>\n",
              "      <td>교차로안</td>\n",
              "      <td>남</td>\n",
              "      <td>52</td>\n",
              "      <td>상해없음</td>\n",
              "      <td>남</td>\n",
              "      <td>9</td>\n",
              "      <td>부상신고</td>\n",
              "    </tr>\n",
              "  </tbody>\n",
              "</table>\n",
              "<p>5 rows × 27 columns</p>\n",
              "</div>\n",
              "      <button class=\"colab-df-convert\" onclick=\"convertToInteractive('df-92a379cc-8f83-4456-943f-cbdd28dd4b22')\"\n",
              "              title=\"Convert this dataframe to an interactive table.\"\n",
              "              style=\"display:none;\">\n",
              "        \n",
              "  <svg xmlns=\"http://www.w3.org/2000/svg\" height=\"24px\"viewBox=\"0 0 24 24\"\n",
              "       width=\"24px\">\n",
              "    <path d=\"M0 0h24v24H0V0z\" fill=\"none\"/>\n",
              "    <path d=\"M18.56 5.44l.94 2.06.94-2.06 2.06-.94-2.06-.94-.94-2.06-.94 2.06-2.06.94zm-11 1L8.5 8.5l.94-2.06 2.06-.94-2.06-.94L8.5 2.5l-.94 2.06-2.06.94zm10 10l.94 2.06.94-2.06 2.06-.94-2.06-.94-.94-2.06-.94 2.06-2.06.94z\"/><path d=\"M17.41 7.96l-1.37-1.37c-.4-.4-.92-.59-1.43-.59-.52 0-1.04.2-1.43.59L10.3 9.45l-7.72 7.72c-.78.78-.78 2.05 0 2.83L4 21.41c.39.39.9.59 1.41.59.51 0 1.02-.2 1.41-.59l7.78-7.78 2.81-2.81c.8-.78.8-2.07 0-2.86zM5.41 20L4 18.59l7.72-7.72 1.47 1.35L5.41 20z\"/>\n",
              "  </svg>\n",
              "      </button>\n",
              "      \n",
              "  <style>\n",
              "    .colab-df-container {\n",
              "      display:flex;\n",
              "      flex-wrap:wrap;\n",
              "      gap: 12px;\n",
              "    }\n",
              "\n",
              "    .colab-df-convert {\n",
              "      background-color: #E8F0FE;\n",
              "      border: none;\n",
              "      border-radius: 50%;\n",
              "      cursor: pointer;\n",
              "      display: none;\n",
              "      fill: #1967D2;\n",
              "      height: 32px;\n",
              "      padding: 0 0 0 0;\n",
              "      width: 32px;\n",
              "    }\n",
              "\n",
              "    .colab-df-convert:hover {\n",
              "      background-color: #E2EBFA;\n",
              "      box-shadow: 0px 1px 2px rgba(60, 64, 67, 0.3), 0px 1px 3px 1px rgba(60, 64, 67, 0.15);\n",
              "      fill: #174EA6;\n",
              "    }\n",
              "\n",
              "    [theme=dark] .colab-df-convert {\n",
              "      background-color: #3B4455;\n",
              "      fill: #D2E3FC;\n",
              "    }\n",
              "\n",
              "    [theme=dark] .colab-df-convert:hover {\n",
              "      background-color: #434B5C;\n",
              "      box-shadow: 0px 1px 3px 1px rgba(0, 0, 0, 0.15);\n",
              "      filter: drop-shadow(0px 1px 2px rgba(0, 0, 0, 0.3));\n",
              "      fill: #FFFFFF;\n",
              "    }\n",
              "  </style>\n",
              "\n",
              "      <script>\n",
              "        const buttonEl =\n",
              "          document.querySelector('#df-92a379cc-8f83-4456-943f-cbdd28dd4b22 button.colab-df-convert');\n",
              "        buttonEl.style.display =\n",
              "          google.colab.kernel.accessAllowed ? 'block' : 'none';\n",
              "\n",
              "        async function convertToInteractive(key) {\n",
              "          const element = document.querySelector('#df-92a379cc-8f83-4456-943f-cbdd28dd4b22');\n",
              "          const dataTable =\n",
              "            await google.colab.kernel.invokeFunction('convertToInteractive',\n",
              "                                                     [key], {});\n",
              "          if (!dataTable) return;\n",
              "\n",
              "          const docLinkHtml = 'Like what you see? Visit the ' +\n",
              "            '<a target=\"_blank\" href=https://colab.research.google.com/notebooks/data_table.ipynb>data table notebook</a>'\n",
              "            + ' to learn more about interactive tables.';\n",
              "          element.innerHTML = '';\n",
              "          dataTable['output_type'] = 'display_data';\n",
              "          await google.colab.output.renderOutput(dataTable, element);\n",
              "          const docLink = document.createElement('div');\n",
              "          docLink.innerHTML = docLinkHtml;\n",
              "          element.appendChild(docLink);\n",
              "        }\n",
              "      </script>\n",
              "    </div>\n",
              "  </div>\n",
              "  "
            ]
          },
          "metadata": {},
          "execution_count": 14
        }
      ]
    },
    {
      "cell_type": "code",
      "source": [
        "accident.info()"
      ],
      "metadata": {
        "colab": {
          "base_uri": "https://localhost:8080/"
        },
        "id": "qUiEO7TUH-xt",
        "outputId": "5da0703d-c16a-432d-8f10-68ad2ad8020b"
      },
      "execution_count": 15,
      "outputs": [
        {
          "output_type": "stream",
          "name": "stdout",
          "text": [
            "<class 'pandas.core.frame.DataFrame'>\n",
            "RangeIndex: 1670 entries, 0 to 1669\n",
            "Data columns (total 27 columns):\n",
            " #   Column      Non-Null Count  Dtype  \n",
            "---  ------      --------------  -----  \n",
            " 0   index       1670 non-null   int64  \n",
            " 1   사고번호        1670 non-null   float64\n",
            " 2   사고일시        1670 non-null   object \n",
            " 3   연           1670 non-null   int64  \n",
            " 4   월           1670 non-null   int64  \n",
            " 5   일           1670 non-null   int64  \n",
            " 6   시           1670 non-null   int64  \n",
            " 7   요일          1670 non-null   object \n",
            " 8   구           1670 non-null   object \n",
            " 9   동           1670 non-null   object \n",
            " 10  사고내용        1670 non-null   int64  \n",
            " 11  사망자수        1670 non-null   int64  \n",
            " 12  중상자수        1670 non-null   int64  \n",
            " 13  경상자수        1670 non-null   int64  \n",
            " 14  부상신고자수      1670 non-null   int64  \n",
            " 15  사고유형        1670 non-null   object \n",
            " 16  법규위반        1670 non-null   object \n",
            " 17  노면상태        1670 non-null   object \n",
            " 18  기상상태        1670 non-null   object \n",
            " 19  도로형태        1670 non-null   object \n",
            " 20  도로상세        1670 non-null   object \n",
            " 21  가해운전자 성별    1670 non-null   object \n",
            " 22  가해운전자 연령    1670 non-null   int64  \n",
            " 23  가해운전자 상해정도  1670 non-null   object \n",
            " 24  피해운전자 성별    1670 non-null   object \n",
            " 25  피해운전자 연령    1670 non-null   int64  \n",
            " 26  피해운전자 상해정도  1670 non-null   object \n",
            "dtypes: float64(1), int64(12), object(14)\n",
            "memory usage: 352.4+ KB\n"
          ]
        }
      ]
    },
    {
      "cell_type": "code",
      "source": [
        "accident.to_csv('accident_delete.csv')"
      ],
      "metadata": {
        "id": "XENhoGLWEzvY"
      },
      "execution_count": 16,
      "outputs": []
    },
    {
      "cell_type": "markdown",
      "source": [
        "## 어린이 보호구역 내 교통사고 데이터 로딩 및 전처리"
      ],
      "metadata": {
        "id": "IcUadlicGpUj"
      }
    },
    {
      "cell_type": "code",
      "source": [
        "#어린이 보호구역 내 사고 데이터 불러오기\n",
        "child = pd.read_csv('/content/drive/MyDrive/거북R/데멘토/Data/accident_child.csv')"
      ],
      "metadata": {
        "id": "QiE-Yuc9y5ch"
      },
      "execution_count": 18,
      "outputs": []
    },
    {
      "cell_type": "code",
      "source": [
        "#피해운전자 연령 칼럼에서 '세' 빼기\n",
        "for i in range(len(child)):\n",
        "  child['피해운전자 연령'][i] = child['피해운전자 연령'][i][0:-1]"
      ],
      "metadata": {
        "colab": {
          "base_uri": "https://localhost:8080/"
        },
        "id": "10XIQvWFDQ4B",
        "outputId": "09b4a13b-d2e4-49f5-bc1d-de430a3cf783"
      },
      "execution_count": 19,
      "outputs": [
        {
          "output_type": "stream",
          "name": "stderr",
          "text": [
            "/usr/local/lib/python3.7/dist-packages/ipykernel_launcher.py:3: SettingWithCopyWarning: \n",
            "A value is trying to be set on a copy of a slice from a DataFrame\n",
            "\n",
            "See the caveats in the documentation: https://pandas.pydata.org/pandas-docs/stable/user_guide/indexing.html#returning-a-view-versus-a-copy\n",
            "  This is separate from the ipykernel package so we can avoid doing imports until\n"
          ]
        }
      ]
    },
    {
      "cell_type": "code",
      "source": [
        "#object형 데이터를 int형으로 형 변환\n",
        "child['피해운전자 연령'] = child['피해운전자 연령'].astype('int')"
      ],
      "metadata": {
        "id": "4zR_U8eFDZwy"
      },
      "execution_count": 20,
      "outputs": []
    },
    {
      "cell_type": "code",
      "source": [
        "child['피해운전자 연령']"
      ],
      "metadata": {
        "colab": {
          "base_uri": "https://localhost:8080/"
        },
        "id": "0pxE0dTEDmWt",
        "outputId": "f5b2be6e-0214-4b02-a0d1-6013db796e1f"
      },
      "execution_count": 21,
      "outputs": [
        {
          "output_type": "execute_result",
          "data": {
            "text/plain": [
              "0      10\n",
              "1      12\n",
              "2       7\n",
              "3       7\n",
              "4       7\n",
              "       ..\n",
              "222    11\n",
              "223    39\n",
              "224     8\n",
              "225     9\n",
              "226     8\n",
              "Name: 피해운전자 연령, Length: 227, dtype: int64"
            ]
          },
          "metadata": {},
          "execution_count": 21
        }
      ]
    },
    {
      "cell_type": "code",
      "source": [
        "#피해운전자 연령이 12살 초과인 데이터는 삭제\n",
        "index3 = child[child['피해운전자 연령']>12].index\n",
        "child.drop(index3,inplace=True)"
      ],
      "metadata": {
        "id": "LiVvcO7VDn7z"
      },
      "execution_count": 22,
      "outputs": []
    },
    {
      "cell_type": "code",
      "source": [
        "#삭제된 데이터를 제외하고 index 초기화\n",
        "child.reset_index(inplace=True)"
      ],
      "metadata": {
        "id": "fDwSiESZORHS"
      },
      "execution_count": 23,
      "outputs": []
    },
    {
      "cell_type": "code",
      "source": [
        "#최종 데이터 개수 확인\n",
        "len(child)"
      ],
      "metadata": {
        "colab": {
          "base_uri": "https://localhost:8080/"
        },
        "id": "fMz4bP8qqeKS",
        "outputId": "3920c382-9dc1-465d-8db9-63d9593e5bbc"
      },
      "execution_count": 24,
      "outputs": [
        {
          "output_type": "execute_result",
          "data": {
            "text/plain": [
              "222"
            ]
          },
          "metadata": {},
          "execution_count": 24
        }
      ]
    },
    {
      "cell_type": "code",
      "source": [
        "child.head()"
      ],
      "metadata": {
        "colab": {
          "base_uri": "https://localhost:8080/",
          "height": 488
        },
        "id": "WL1eMgGO5KYF",
        "outputId": "662eca78-2efa-4e74-deec-928bfb50f53b"
      },
      "execution_count": 25,
      "outputs": [
        {
          "output_type": "execute_result",
          "data": {
            "text/plain": [
              "   index              사고번호              사고일시   요일              시군구    사고내용  \\\n",
              "0      0  2017012500100439  2017년 1월 25일 16시  수요일  서울특별시 성북구 삼선동3가    경상사고   \n",
              "1      1  2017012600100138  2017년 1월 26일 08시  목요일  서울특별시 서대문구 남가좌동  부상신고사고   \n",
              "2      2  2017020900100280   2017년 2월 9일 15시  목요일    서울특별시 은평구 진관동    중상사고   \n",
              "3      3  2017020900100395   2017년 2월 9일 19시  목요일    서울특별시 강남구 청담동    중상사고   \n",
              "4      4  2017030200100230   2017년 3월 2일 13시  목요일     서울특별시 구로구 항동    중상사고   \n",
              "\n",
              "   사망자수  중상자수  경상자수  부상신고자수  ... 기상상태      도로형태 가해운전자 차종 가해운전자 성별 가해운전자 연령  \\\n",
              "0     0     0     1       0  ...   맑음  단일로 - 기타       승용        여      38세   \n",
              "1     0     0     0       1  ...   맑음  단일로 - 기타       승용        남      69세   \n",
              "2     0     1     0       0  ...   맑음  단일로 - 기타       승용        여      54세   \n",
              "3     0     1     0       0  ...   맑음  단일로 - 기타       승합        남      35세   \n",
              "4     0     1     0       0  ...   맑음  단일로 - 기타       승용        남      70세   \n",
              "\n",
              "  가해운전자 상해정도 피해운전자 차종 피해운전자 성별 피해운전자 연령 피해운전자 상해정도  \n",
              "0       상해없음      보행자        여       10         경상  \n",
              "1       상해없음      보행자        여       12       부상신고  \n",
              "2       상해없음      보행자        남        7         중상  \n",
              "3       상해없음      보행자        남        7         중상  \n",
              "4       상해없음      보행자        남        7         중상  \n",
              "\n",
              "[5 rows x 23 columns]"
            ],
            "text/html": [
              "\n",
              "  <div id=\"df-708ad248-24c5-40f9-97b0-9f70687ee3dd\">\n",
              "    <div class=\"colab-df-container\">\n",
              "      <div>\n",
              "<style scoped>\n",
              "    .dataframe tbody tr th:only-of-type {\n",
              "        vertical-align: middle;\n",
              "    }\n",
              "\n",
              "    .dataframe tbody tr th {\n",
              "        vertical-align: top;\n",
              "    }\n",
              "\n",
              "    .dataframe thead th {\n",
              "        text-align: right;\n",
              "    }\n",
              "</style>\n",
              "<table border=\"1\" class=\"dataframe\">\n",
              "  <thead>\n",
              "    <tr style=\"text-align: right;\">\n",
              "      <th></th>\n",
              "      <th>index</th>\n",
              "      <th>사고번호</th>\n",
              "      <th>사고일시</th>\n",
              "      <th>요일</th>\n",
              "      <th>시군구</th>\n",
              "      <th>사고내용</th>\n",
              "      <th>사망자수</th>\n",
              "      <th>중상자수</th>\n",
              "      <th>경상자수</th>\n",
              "      <th>부상신고자수</th>\n",
              "      <th>...</th>\n",
              "      <th>기상상태</th>\n",
              "      <th>도로형태</th>\n",
              "      <th>가해운전자 차종</th>\n",
              "      <th>가해운전자 성별</th>\n",
              "      <th>가해운전자 연령</th>\n",
              "      <th>가해운전자 상해정도</th>\n",
              "      <th>피해운전자 차종</th>\n",
              "      <th>피해운전자 성별</th>\n",
              "      <th>피해운전자 연령</th>\n",
              "      <th>피해운전자 상해정도</th>\n",
              "    </tr>\n",
              "  </thead>\n",
              "  <tbody>\n",
              "    <tr>\n",
              "      <th>0</th>\n",
              "      <td>0</td>\n",
              "      <td>2017012500100439</td>\n",
              "      <td>2017년 1월 25일 16시</td>\n",
              "      <td>수요일</td>\n",
              "      <td>서울특별시 성북구 삼선동3가</td>\n",
              "      <td>경상사고</td>\n",
              "      <td>0</td>\n",
              "      <td>0</td>\n",
              "      <td>1</td>\n",
              "      <td>0</td>\n",
              "      <td>...</td>\n",
              "      <td>맑음</td>\n",
              "      <td>단일로 - 기타</td>\n",
              "      <td>승용</td>\n",
              "      <td>여</td>\n",
              "      <td>38세</td>\n",
              "      <td>상해없음</td>\n",
              "      <td>보행자</td>\n",
              "      <td>여</td>\n",
              "      <td>10</td>\n",
              "      <td>경상</td>\n",
              "    </tr>\n",
              "    <tr>\n",
              "      <th>1</th>\n",
              "      <td>1</td>\n",
              "      <td>2017012600100138</td>\n",
              "      <td>2017년 1월 26일 08시</td>\n",
              "      <td>목요일</td>\n",
              "      <td>서울특별시 서대문구 남가좌동</td>\n",
              "      <td>부상신고사고</td>\n",
              "      <td>0</td>\n",
              "      <td>0</td>\n",
              "      <td>0</td>\n",
              "      <td>1</td>\n",
              "      <td>...</td>\n",
              "      <td>맑음</td>\n",
              "      <td>단일로 - 기타</td>\n",
              "      <td>승용</td>\n",
              "      <td>남</td>\n",
              "      <td>69세</td>\n",
              "      <td>상해없음</td>\n",
              "      <td>보행자</td>\n",
              "      <td>여</td>\n",
              "      <td>12</td>\n",
              "      <td>부상신고</td>\n",
              "    </tr>\n",
              "    <tr>\n",
              "      <th>2</th>\n",
              "      <td>2</td>\n",
              "      <td>2017020900100280</td>\n",
              "      <td>2017년 2월 9일 15시</td>\n",
              "      <td>목요일</td>\n",
              "      <td>서울특별시 은평구 진관동</td>\n",
              "      <td>중상사고</td>\n",
              "      <td>0</td>\n",
              "      <td>1</td>\n",
              "      <td>0</td>\n",
              "      <td>0</td>\n",
              "      <td>...</td>\n",
              "      <td>맑음</td>\n",
              "      <td>단일로 - 기타</td>\n",
              "      <td>승용</td>\n",
              "      <td>여</td>\n",
              "      <td>54세</td>\n",
              "      <td>상해없음</td>\n",
              "      <td>보행자</td>\n",
              "      <td>남</td>\n",
              "      <td>7</td>\n",
              "      <td>중상</td>\n",
              "    </tr>\n",
              "    <tr>\n",
              "      <th>3</th>\n",
              "      <td>3</td>\n",
              "      <td>2017020900100395</td>\n",
              "      <td>2017년 2월 9일 19시</td>\n",
              "      <td>목요일</td>\n",
              "      <td>서울특별시 강남구 청담동</td>\n",
              "      <td>중상사고</td>\n",
              "      <td>0</td>\n",
              "      <td>1</td>\n",
              "      <td>0</td>\n",
              "      <td>0</td>\n",
              "      <td>...</td>\n",
              "      <td>맑음</td>\n",
              "      <td>단일로 - 기타</td>\n",
              "      <td>승합</td>\n",
              "      <td>남</td>\n",
              "      <td>35세</td>\n",
              "      <td>상해없음</td>\n",
              "      <td>보행자</td>\n",
              "      <td>남</td>\n",
              "      <td>7</td>\n",
              "      <td>중상</td>\n",
              "    </tr>\n",
              "    <tr>\n",
              "      <th>4</th>\n",
              "      <td>4</td>\n",
              "      <td>2017030200100230</td>\n",
              "      <td>2017년 3월 2일 13시</td>\n",
              "      <td>목요일</td>\n",
              "      <td>서울특별시 구로구 항동</td>\n",
              "      <td>중상사고</td>\n",
              "      <td>0</td>\n",
              "      <td>1</td>\n",
              "      <td>0</td>\n",
              "      <td>0</td>\n",
              "      <td>...</td>\n",
              "      <td>맑음</td>\n",
              "      <td>단일로 - 기타</td>\n",
              "      <td>승용</td>\n",
              "      <td>남</td>\n",
              "      <td>70세</td>\n",
              "      <td>상해없음</td>\n",
              "      <td>보행자</td>\n",
              "      <td>남</td>\n",
              "      <td>7</td>\n",
              "      <td>중상</td>\n",
              "    </tr>\n",
              "  </tbody>\n",
              "</table>\n",
              "<p>5 rows × 23 columns</p>\n",
              "</div>\n",
              "      <button class=\"colab-df-convert\" onclick=\"convertToInteractive('df-708ad248-24c5-40f9-97b0-9f70687ee3dd')\"\n",
              "              title=\"Convert this dataframe to an interactive table.\"\n",
              "              style=\"display:none;\">\n",
              "        \n",
              "  <svg xmlns=\"http://www.w3.org/2000/svg\" height=\"24px\"viewBox=\"0 0 24 24\"\n",
              "       width=\"24px\">\n",
              "    <path d=\"M0 0h24v24H0V0z\" fill=\"none\"/>\n",
              "    <path d=\"M18.56 5.44l.94 2.06.94-2.06 2.06-.94-2.06-.94-.94-2.06-.94 2.06-2.06.94zm-11 1L8.5 8.5l.94-2.06 2.06-.94-2.06-.94L8.5 2.5l-.94 2.06-2.06.94zm10 10l.94 2.06.94-2.06 2.06-.94-2.06-.94-.94-2.06-.94 2.06-2.06.94z\"/><path d=\"M17.41 7.96l-1.37-1.37c-.4-.4-.92-.59-1.43-.59-.52 0-1.04.2-1.43.59L10.3 9.45l-7.72 7.72c-.78.78-.78 2.05 0 2.83L4 21.41c.39.39.9.59 1.41.59.51 0 1.02-.2 1.41-.59l7.78-7.78 2.81-2.81c.8-.78.8-2.07 0-2.86zM5.41 20L4 18.59l7.72-7.72 1.47 1.35L5.41 20z\"/>\n",
              "  </svg>\n",
              "      </button>\n",
              "      \n",
              "  <style>\n",
              "    .colab-df-container {\n",
              "      display:flex;\n",
              "      flex-wrap:wrap;\n",
              "      gap: 12px;\n",
              "    }\n",
              "\n",
              "    .colab-df-convert {\n",
              "      background-color: #E8F0FE;\n",
              "      border: none;\n",
              "      border-radius: 50%;\n",
              "      cursor: pointer;\n",
              "      display: none;\n",
              "      fill: #1967D2;\n",
              "      height: 32px;\n",
              "      padding: 0 0 0 0;\n",
              "      width: 32px;\n",
              "    }\n",
              "\n",
              "    .colab-df-convert:hover {\n",
              "      background-color: #E2EBFA;\n",
              "      box-shadow: 0px 1px 2px rgba(60, 64, 67, 0.3), 0px 1px 3px 1px rgba(60, 64, 67, 0.15);\n",
              "      fill: #174EA6;\n",
              "    }\n",
              "\n",
              "    [theme=dark] .colab-df-convert {\n",
              "      background-color: #3B4455;\n",
              "      fill: #D2E3FC;\n",
              "    }\n",
              "\n",
              "    [theme=dark] .colab-df-convert:hover {\n",
              "      background-color: #434B5C;\n",
              "      box-shadow: 0px 1px 3px 1px rgba(0, 0, 0, 0.15);\n",
              "      filter: drop-shadow(0px 1px 2px rgba(0, 0, 0, 0.3));\n",
              "      fill: #FFFFFF;\n",
              "    }\n",
              "  </style>\n",
              "\n",
              "      <script>\n",
              "        const buttonEl =\n",
              "          document.querySelector('#df-708ad248-24c5-40f9-97b0-9f70687ee3dd button.colab-df-convert');\n",
              "        buttonEl.style.display =\n",
              "          google.colab.kernel.accessAllowed ? 'block' : 'none';\n",
              "\n",
              "        async function convertToInteractive(key) {\n",
              "          const element = document.querySelector('#df-708ad248-24c5-40f9-97b0-9f70687ee3dd');\n",
              "          const dataTable =\n",
              "            await google.colab.kernel.invokeFunction('convertToInteractive',\n",
              "                                                     [key], {});\n",
              "          if (!dataTable) return;\n",
              "\n",
              "          const docLinkHtml = 'Like what you see? Visit the ' +\n",
              "            '<a target=\"_blank\" href=https://colab.research.google.com/notebooks/data_table.ipynb>data table notebook</a>'\n",
              "            + ' to learn more about interactive tables.';\n",
              "          element.innerHTML = '';\n",
              "          dataTable['output_type'] = 'display_data';\n",
              "          await google.colab.output.renderOutput(dataTable, element);\n",
              "          const docLink = document.createElement('div');\n",
              "          docLink.innerHTML = docLinkHtml;\n",
              "          element.appendChild(docLink);\n",
              "        }\n",
              "      </script>\n",
              "    </div>\n",
              "  </div>\n",
              "  "
            ]
          },
          "metadata": {},
          "execution_count": 25
        }
      ]
    },
    {
      "cell_type": "code",
      "source": [
        "#csv로 불러와져서 'index' 칼럼이 추가되어 있으므로 삭제\n",
        "child.drop('index', axis=1, inplace=True)"
      ],
      "metadata": {
        "id": "LPOCPEhD5Mj7"
      },
      "execution_count": 26,
      "outputs": []
    },
    {
      "cell_type": "code",
      "source": [
        "child.head()"
      ],
      "metadata": {
        "colab": {
          "base_uri": "https://localhost:8080/",
          "height": 488
        },
        "id": "1hF8lCs55Swz",
        "outputId": "c51e1bb1-0b80-4899-c06d-b01c016812e2"
      },
      "execution_count": 27,
      "outputs": [
        {
          "output_type": "execute_result",
          "data": {
            "text/plain": [
              "               사고번호              사고일시   요일              시군구    사고내용  사망자수  \\\n",
              "0  2017012500100439  2017년 1월 25일 16시  수요일  서울특별시 성북구 삼선동3가    경상사고     0   \n",
              "1  2017012600100138  2017년 1월 26일 08시  목요일  서울특별시 서대문구 남가좌동  부상신고사고     0   \n",
              "2  2017020900100280   2017년 2월 9일 15시  목요일    서울특별시 은평구 진관동    중상사고     0   \n",
              "3  2017020900100395   2017년 2월 9일 19시  목요일    서울특별시 강남구 청담동    중상사고     0   \n",
              "4  2017030200100230   2017년 3월 2일 13시  목요일     서울특별시 구로구 항동    중상사고     0   \n",
              "\n",
              "   중상자수  경상자수  부상신고자수        사고유형  ... 기상상태      도로형태 가해운전자 차종 가해운전자 성별  \\\n",
              "0     0     1       0  차대사람 - 횡단중  ...   맑음  단일로 - 기타       승용        여   \n",
              "1     0     0       1  차대사람 - 횡단중  ...   맑음  단일로 - 기타       승용        남   \n",
              "2     1     0       0  차대사람 - 횡단중  ...   맑음  단일로 - 기타       승용        여   \n",
              "3     1     0       0  차대사람 - 횡단중  ...   맑음  단일로 - 기타       승합        남   \n",
              "4     1     0       0  차대사람 - 횡단중  ...   맑음  단일로 - 기타       승용        남   \n",
              "\n",
              "  가해운전자 연령 가해운전자 상해정도 피해운전자 차종 피해운전자 성별 피해운전자 연령 피해운전자 상해정도  \n",
              "0      38세       상해없음      보행자        여       10         경상  \n",
              "1      69세       상해없음      보행자        여       12       부상신고  \n",
              "2      54세       상해없음      보행자        남        7         중상  \n",
              "3      35세       상해없음      보행자        남        7         중상  \n",
              "4      70세       상해없음      보행자        남        7         중상  \n",
              "\n",
              "[5 rows x 22 columns]"
            ],
            "text/html": [
              "\n",
              "  <div id=\"df-2ef97a8e-66be-477e-8155-a68c845328e0\">\n",
              "    <div class=\"colab-df-container\">\n",
              "      <div>\n",
              "<style scoped>\n",
              "    .dataframe tbody tr th:only-of-type {\n",
              "        vertical-align: middle;\n",
              "    }\n",
              "\n",
              "    .dataframe tbody tr th {\n",
              "        vertical-align: top;\n",
              "    }\n",
              "\n",
              "    .dataframe thead th {\n",
              "        text-align: right;\n",
              "    }\n",
              "</style>\n",
              "<table border=\"1\" class=\"dataframe\">\n",
              "  <thead>\n",
              "    <tr style=\"text-align: right;\">\n",
              "      <th></th>\n",
              "      <th>사고번호</th>\n",
              "      <th>사고일시</th>\n",
              "      <th>요일</th>\n",
              "      <th>시군구</th>\n",
              "      <th>사고내용</th>\n",
              "      <th>사망자수</th>\n",
              "      <th>중상자수</th>\n",
              "      <th>경상자수</th>\n",
              "      <th>부상신고자수</th>\n",
              "      <th>사고유형</th>\n",
              "      <th>...</th>\n",
              "      <th>기상상태</th>\n",
              "      <th>도로형태</th>\n",
              "      <th>가해운전자 차종</th>\n",
              "      <th>가해운전자 성별</th>\n",
              "      <th>가해운전자 연령</th>\n",
              "      <th>가해운전자 상해정도</th>\n",
              "      <th>피해운전자 차종</th>\n",
              "      <th>피해운전자 성별</th>\n",
              "      <th>피해운전자 연령</th>\n",
              "      <th>피해운전자 상해정도</th>\n",
              "    </tr>\n",
              "  </thead>\n",
              "  <tbody>\n",
              "    <tr>\n",
              "      <th>0</th>\n",
              "      <td>2017012500100439</td>\n",
              "      <td>2017년 1월 25일 16시</td>\n",
              "      <td>수요일</td>\n",
              "      <td>서울특별시 성북구 삼선동3가</td>\n",
              "      <td>경상사고</td>\n",
              "      <td>0</td>\n",
              "      <td>0</td>\n",
              "      <td>1</td>\n",
              "      <td>0</td>\n",
              "      <td>차대사람 - 횡단중</td>\n",
              "      <td>...</td>\n",
              "      <td>맑음</td>\n",
              "      <td>단일로 - 기타</td>\n",
              "      <td>승용</td>\n",
              "      <td>여</td>\n",
              "      <td>38세</td>\n",
              "      <td>상해없음</td>\n",
              "      <td>보행자</td>\n",
              "      <td>여</td>\n",
              "      <td>10</td>\n",
              "      <td>경상</td>\n",
              "    </tr>\n",
              "    <tr>\n",
              "      <th>1</th>\n",
              "      <td>2017012600100138</td>\n",
              "      <td>2017년 1월 26일 08시</td>\n",
              "      <td>목요일</td>\n",
              "      <td>서울특별시 서대문구 남가좌동</td>\n",
              "      <td>부상신고사고</td>\n",
              "      <td>0</td>\n",
              "      <td>0</td>\n",
              "      <td>0</td>\n",
              "      <td>1</td>\n",
              "      <td>차대사람 - 횡단중</td>\n",
              "      <td>...</td>\n",
              "      <td>맑음</td>\n",
              "      <td>단일로 - 기타</td>\n",
              "      <td>승용</td>\n",
              "      <td>남</td>\n",
              "      <td>69세</td>\n",
              "      <td>상해없음</td>\n",
              "      <td>보행자</td>\n",
              "      <td>여</td>\n",
              "      <td>12</td>\n",
              "      <td>부상신고</td>\n",
              "    </tr>\n",
              "    <tr>\n",
              "      <th>2</th>\n",
              "      <td>2017020900100280</td>\n",
              "      <td>2017년 2월 9일 15시</td>\n",
              "      <td>목요일</td>\n",
              "      <td>서울특별시 은평구 진관동</td>\n",
              "      <td>중상사고</td>\n",
              "      <td>0</td>\n",
              "      <td>1</td>\n",
              "      <td>0</td>\n",
              "      <td>0</td>\n",
              "      <td>차대사람 - 횡단중</td>\n",
              "      <td>...</td>\n",
              "      <td>맑음</td>\n",
              "      <td>단일로 - 기타</td>\n",
              "      <td>승용</td>\n",
              "      <td>여</td>\n",
              "      <td>54세</td>\n",
              "      <td>상해없음</td>\n",
              "      <td>보행자</td>\n",
              "      <td>남</td>\n",
              "      <td>7</td>\n",
              "      <td>중상</td>\n",
              "    </tr>\n",
              "    <tr>\n",
              "      <th>3</th>\n",
              "      <td>2017020900100395</td>\n",
              "      <td>2017년 2월 9일 19시</td>\n",
              "      <td>목요일</td>\n",
              "      <td>서울특별시 강남구 청담동</td>\n",
              "      <td>중상사고</td>\n",
              "      <td>0</td>\n",
              "      <td>1</td>\n",
              "      <td>0</td>\n",
              "      <td>0</td>\n",
              "      <td>차대사람 - 횡단중</td>\n",
              "      <td>...</td>\n",
              "      <td>맑음</td>\n",
              "      <td>단일로 - 기타</td>\n",
              "      <td>승합</td>\n",
              "      <td>남</td>\n",
              "      <td>35세</td>\n",
              "      <td>상해없음</td>\n",
              "      <td>보행자</td>\n",
              "      <td>남</td>\n",
              "      <td>7</td>\n",
              "      <td>중상</td>\n",
              "    </tr>\n",
              "    <tr>\n",
              "      <th>4</th>\n",
              "      <td>2017030200100230</td>\n",
              "      <td>2017년 3월 2일 13시</td>\n",
              "      <td>목요일</td>\n",
              "      <td>서울특별시 구로구 항동</td>\n",
              "      <td>중상사고</td>\n",
              "      <td>0</td>\n",
              "      <td>1</td>\n",
              "      <td>0</td>\n",
              "      <td>0</td>\n",
              "      <td>차대사람 - 횡단중</td>\n",
              "      <td>...</td>\n",
              "      <td>맑음</td>\n",
              "      <td>단일로 - 기타</td>\n",
              "      <td>승용</td>\n",
              "      <td>남</td>\n",
              "      <td>70세</td>\n",
              "      <td>상해없음</td>\n",
              "      <td>보행자</td>\n",
              "      <td>남</td>\n",
              "      <td>7</td>\n",
              "      <td>중상</td>\n",
              "    </tr>\n",
              "  </tbody>\n",
              "</table>\n",
              "<p>5 rows × 22 columns</p>\n",
              "</div>\n",
              "      <button class=\"colab-df-convert\" onclick=\"convertToInteractive('df-2ef97a8e-66be-477e-8155-a68c845328e0')\"\n",
              "              title=\"Convert this dataframe to an interactive table.\"\n",
              "              style=\"display:none;\">\n",
              "        \n",
              "  <svg xmlns=\"http://www.w3.org/2000/svg\" height=\"24px\"viewBox=\"0 0 24 24\"\n",
              "       width=\"24px\">\n",
              "    <path d=\"M0 0h24v24H0V0z\" fill=\"none\"/>\n",
              "    <path d=\"M18.56 5.44l.94 2.06.94-2.06 2.06-.94-2.06-.94-.94-2.06-.94 2.06-2.06.94zm-11 1L8.5 8.5l.94-2.06 2.06-.94-2.06-.94L8.5 2.5l-.94 2.06-2.06.94zm10 10l.94 2.06.94-2.06 2.06-.94-2.06-.94-.94-2.06-.94 2.06-2.06.94z\"/><path d=\"M17.41 7.96l-1.37-1.37c-.4-.4-.92-.59-1.43-.59-.52 0-1.04.2-1.43.59L10.3 9.45l-7.72 7.72c-.78.78-.78 2.05 0 2.83L4 21.41c.39.39.9.59 1.41.59.51 0 1.02-.2 1.41-.59l7.78-7.78 2.81-2.81c.8-.78.8-2.07 0-2.86zM5.41 20L4 18.59l7.72-7.72 1.47 1.35L5.41 20z\"/>\n",
              "  </svg>\n",
              "      </button>\n",
              "      \n",
              "  <style>\n",
              "    .colab-df-container {\n",
              "      display:flex;\n",
              "      flex-wrap:wrap;\n",
              "      gap: 12px;\n",
              "    }\n",
              "\n",
              "    .colab-df-convert {\n",
              "      background-color: #E8F0FE;\n",
              "      border: none;\n",
              "      border-radius: 50%;\n",
              "      cursor: pointer;\n",
              "      display: none;\n",
              "      fill: #1967D2;\n",
              "      height: 32px;\n",
              "      padding: 0 0 0 0;\n",
              "      width: 32px;\n",
              "    }\n",
              "\n",
              "    .colab-df-convert:hover {\n",
              "      background-color: #E2EBFA;\n",
              "      box-shadow: 0px 1px 2px rgba(60, 64, 67, 0.3), 0px 1px 3px 1px rgba(60, 64, 67, 0.15);\n",
              "      fill: #174EA6;\n",
              "    }\n",
              "\n",
              "    [theme=dark] .colab-df-convert {\n",
              "      background-color: #3B4455;\n",
              "      fill: #D2E3FC;\n",
              "    }\n",
              "\n",
              "    [theme=dark] .colab-df-convert:hover {\n",
              "      background-color: #434B5C;\n",
              "      box-shadow: 0px 1px 3px 1px rgba(0, 0, 0, 0.15);\n",
              "      filter: drop-shadow(0px 1px 2px rgba(0, 0, 0, 0.3));\n",
              "      fill: #FFFFFF;\n",
              "    }\n",
              "  </style>\n",
              "\n",
              "      <script>\n",
              "        const buttonEl =\n",
              "          document.querySelector('#df-2ef97a8e-66be-477e-8155-a68c845328e0 button.colab-df-convert');\n",
              "        buttonEl.style.display =\n",
              "          google.colab.kernel.accessAllowed ? 'block' : 'none';\n",
              "\n",
              "        async function convertToInteractive(key) {\n",
              "          const element = document.querySelector('#df-2ef97a8e-66be-477e-8155-a68c845328e0');\n",
              "          const dataTable =\n",
              "            await google.colab.kernel.invokeFunction('convertToInteractive',\n",
              "                                                     [key], {});\n",
              "          if (!dataTable) return;\n",
              "\n",
              "          const docLinkHtml = 'Like what you see? Visit the ' +\n",
              "            '<a target=\"_blank\" href=https://colab.research.google.com/notebooks/data_table.ipynb>data table notebook</a>'\n",
              "            + ' to learn more about interactive tables.';\n",
              "          element.innerHTML = '';\n",
              "          dataTable['output_type'] = 'display_data';\n",
              "          await google.colab.output.renderOutput(dataTable, element);\n",
              "          const docLink = document.createElement('div');\n",
              "          docLink.innerHTML = docLinkHtml;\n",
              "          element.appendChild(docLink);\n",
              "        }\n",
              "      </script>\n",
              "    </div>\n",
              "  </div>\n",
              "  "
            ]
          },
          "metadata": {},
          "execution_count": 27
        }
      ]
    },
    {
      "cell_type": "code",
      "source": [
        "child.info()"
      ],
      "metadata": {
        "colab": {
          "base_uri": "https://localhost:8080/"
        },
        "id": "MZXwHjkoIL8w",
        "outputId": "2c24b90c-f194-417b-90e0-f0f855d53feb"
      },
      "execution_count": 28,
      "outputs": [
        {
          "output_type": "stream",
          "name": "stdout",
          "text": [
            "<class 'pandas.core.frame.DataFrame'>\n",
            "RangeIndex: 222 entries, 0 to 221\n",
            "Data columns (total 22 columns):\n",
            " #   Column      Non-Null Count  Dtype \n",
            "---  ------      --------------  ----- \n",
            " 0   사고번호        222 non-null    int64 \n",
            " 1   사고일시        222 non-null    object\n",
            " 2   요일          222 non-null    object\n",
            " 3   시군구         222 non-null    object\n",
            " 4   사고내용        222 non-null    object\n",
            " 5   사망자수        222 non-null    int64 \n",
            " 6   중상자수        222 non-null    int64 \n",
            " 7   경상자수        222 non-null    int64 \n",
            " 8   부상신고자수      222 non-null    int64 \n",
            " 9   사고유형        222 non-null    object\n",
            " 10  법규위반        222 non-null    object\n",
            " 11  노면상태        222 non-null    object\n",
            " 12  기상상태        222 non-null    object\n",
            " 13  도로형태        222 non-null    object\n",
            " 14  가해운전자 차종    222 non-null    object\n",
            " 15  가해운전자 성별    222 non-null    object\n",
            " 16  가해운전자 연령    222 non-null    object\n",
            " 17  가해운전자 상해정도  222 non-null    object\n",
            " 18  피해운전자 차종    222 non-null    object\n",
            " 19  피해운전자 성별    222 non-null    object\n",
            " 20  피해운전자 연령    222 non-null    int64 \n",
            " 21  피해운전자 상해정도  222 non-null    object\n",
            "dtypes: int64(6), object(16)\n",
            "memory usage: 38.3+ KB\n"
          ]
        }
      ]
    },
    {
      "cell_type": "code",
      "source": [
        "#전처리 끝낸 최종 어린이 보호구역 내 교통사고 데이터 txt 파일로 저장\n",
        "child.to_csv('accident_child.txt',index=False)"
      ],
      "metadata": {
        "id": "SC6p1z5F5BX2"
      },
      "execution_count": 29,
      "outputs": []
    },
    {
      "cell_type": "markdown",
      "source": [
        "## 서울시 어린이 교통사고 데이터 2차 전처리 - accident['어린이 보호구역'] 칼럼 생성"
      ],
      "metadata": {
        "id": "qInXOQleHKr0"
      }
    },
    {
      "cell_type": "markdown",
      "source": [
        "- 원래는 TAAS에서 어린이 보호구역 내 교통사고 데이터를 다운받아서 우리가 가지고 있는 accident 데이터(어린이 교통사고 데이터)의 사고번호와 어린이 보호구역 내 교통사고 데이터의 사고번호를 비교하여 accident 데이터 중에 어린이 보호구역 내 교통사고는 ‘어린이 보호구역’ 칼럼이 1, 어린이 보호구역 외 교통사고는 0이 되도록 하려고 했음"
      ],
      "metadata": {
        "id": "oIKQqCLfJYox"
      }
    },
    {
      "cell_type": "code",
      "source": [
        "#accident 데이터에 '어린이 보호구역' 칼럼 생성 후 0으로 초기화\n",
        "accident['어린이 보호구역'] = 0\n",
        "\n",
        "#이중 for문으로 accident 데이터의 사고번호와 child 데이터의 사고번호를 비교하면서\n",
        "#같다면(accident의 사고가 어린이 보호구역 내 교통사고라면) 1로 값 바꾸기\n",
        "for i in range(len(accident)):\n",
        "\tfor j in range(len(child)):\n",
        "\t\tif ( (accident['사고번호'][i] == str(child['사고번호'][j])) | (accident['사고번호'][i] == int(child['사고번호'][j])) ):\n",
        "\t\t\t\taccident['어린이 보호구역'][i] = 1\n",
        "\t\t\t\tbreak"
      ],
      "metadata": {
        "colab": {
          "base_uri": "https://localhost:8080/"
        },
        "id": "Xm_Y4yLiI6a7",
        "outputId": "6b20550a-a07a-4cb5-efd3-12174ed78d8e"
      },
      "execution_count": 30,
      "outputs": [
        {
          "output_type": "stream",
          "name": "stderr",
          "text": [
            "/usr/local/lib/python3.7/dist-packages/ipykernel_launcher.py:9: SettingWithCopyWarning: \n",
            "A value is trying to be set on a copy of a slice from a DataFrame\n",
            "\n",
            "See the caveats in the documentation: https://pandas.pydata.org/pandas-docs/stable/user_guide/indexing.html#returning-a-view-versus-a-copy\n",
            "  if __name__ == '__main__':\n"
          ]
        }
      ]
    },
    {
      "cell_type": "code",
      "source": [
        "#어린이 보호구역 칼럼 분포 확인\n",
        "#어린이 보호구역 내 사고가 222건이었으니 accident['어린이 보호구역']이 1인 데이터가 222개여야 함\n",
        "accident['어린이 보호구역'].value_counts()"
      ],
      "metadata": {
        "colab": {
          "base_uri": "https://localhost:8080/"
        },
        "id": "5U_ztCuSI82N",
        "outputId": "1bc9610c-82be-4cde-f623-27c6b9471438"
      },
      "execution_count": 31,
      "outputs": [
        {
          "output_type": "execute_result",
          "data": {
            "text/plain": [
              "0    1507\n",
              "1     163\n",
              "Name: 어린이 보호구역, dtype: int64"
            ]
          },
          "metadata": {},
          "execution_count": 31
        }
      ]
    },
    {
      "cell_type": "markdown",
      "source": [
        "- 근데 자꾸 accident[’어린이 보호구역’]이 1인 데이터가 222개가 안나옴\n",
        "  \n",
        "- 문제점을 찾아보기 위해서 다시 데이터를 살펴보니, 행정구역별 데이터를 하나로 합치는 과정에서 직접 엑셀에서 동시에 병합했는데 많은 데이터가 잘못 복사된 것을 확인함\n",
        "  \n",
        "- 프로그램을 사용하여 데이터를 다시 병합하기로 결정함"
      ],
      "metadata": {
        "id": "Nfn_7AZGJUNm"
      }
    },
    {
      "cell_type": "markdown",
      "source": [
        "## 다시 accident 데이터 새로 생성"
      ],
      "metadata": {
        "id": "q-fqodZ3JbHU"
      }
    },
    {
      "cell_type": "markdown",
      "source": [
        "- 위도, 경도 입력을 완료한 행정구역별 어린이 교통사고 데이터를 하나의 파일로 병합하여 분석에 사용할 accident 데이터 생성  \n",
        "  \n",
        "- 데이터 병합 - 엑셀머지 XLMerge 프로그램 이용(https://xlworks.net/xlmerge-excel-file-merge/)\n",
        "  \n",
        "  \n",
        "- 병합한 데이터를 1차 전처리 방법대로 돌렸는데 피해 운전자 연령이 int로 형변환이 안됨 → 어제랑 같은 코드인데 왜 안돌아가지? → ‘90 이상’으로 입력된 값이 ‘90’과 ‘이상’ 사이에 띄어쓰기가 2칸임을 확인함\n",
        "  \n",
        "- 그래서 다시 제대로 ‘90  이상’을 제거하고 새로 만든 accident 데이터로 위의 코드를 다시 돌려봤는데도 accident[’어린이 보호구역’]이 1인 데이터가 222개가 아니었음.\n",
        "  \n",
        "  \n",
        "- 다시 데이터를 보니까 사고번호의 앞 8자리는 원래 사고연월일인데 사고일시랑 맞지 않는 것을 확인함 → 어느 데이터에서 잘못된건지 확인하기 위해 아래 코드로 확인해봄"
      ],
      "metadata": {
        "id": "abankOajJfRJ"
      }
    },
    {
      "cell_type": "code",
      "source": [
        "#사고번호에서 앞 4자리, 2자리, 2자리를 슬라이싱해 각각 사고연, 사고월, 사고일로 저장\n",
        "accident['사고번호'] = accident['사고번호'].astype('str')\n",
        "accident['사고연'] = 0\n",
        "accident['사고월'] = 0\n",
        "accident['사고일'] = 0\n",
        "\n",
        "for i in range(len(accident)):\n",
        "  accident['사고연'][i] = accident['사고번호'][i][0:4]\n",
        "  accident['사고월'][i] = accident['사고번호'][i][4:6]\n",
        "  accident['사고일'][i] = accident['사고번호'][i][6:8]"
      ],
      "metadata": {
        "colab": {
          "base_uri": "https://localhost:8080/"
        },
        "id": "NkY4YwAMJTlo",
        "outputId": "a3f9a619-7272-4b31-fc46-90d9904980ba"
      },
      "execution_count": 118,
      "outputs": [
        {
          "output_type": "stream",
          "name": "stderr",
          "text": [
            "/usr/local/lib/python3.7/dist-packages/ipykernel_launcher.py:8: SettingWithCopyWarning: \n",
            "A value is trying to be set on a copy of a slice from a DataFrame\n",
            "\n",
            "See the caveats in the documentation: https://pandas.pydata.org/pandas-docs/stable/user_guide/indexing.html#returning-a-view-versus-a-copy\n",
            "  \n",
            "/usr/local/lib/python3.7/dist-packages/ipykernel_launcher.py:9: SettingWithCopyWarning: \n",
            "A value is trying to be set on a copy of a slice from a DataFrame\n",
            "\n",
            "See the caveats in the documentation: https://pandas.pydata.org/pandas-docs/stable/user_guide/indexing.html#returning-a-view-versus-a-copy\n",
            "  if __name__ == '__main__':\n",
            "/usr/local/lib/python3.7/dist-packages/ipykernel_launcher.py:10: SettingWithCopyWarning: \n",
            "A value is trying to be set on a copy of a slice from a DataFrame\n",
            "\n",
            "See the caveats in the documentation: https://pandas.pydata.org/pandas-docs/stable/user_guide/indexing.html#returning-a-view-versus-a-copy\n",
            "  # Remove the CWD from sys.path while we load stuff.\n"
          ]
        }
      ]
    },
    {
      "cell_type": "code",
      "source": [
        "#기존에 만들어 놓은 연, 월, 일과 비교하기 위해 int형으로 형변환\n",
        "accident = accident.astype({'사고연':'int','사고월':'int','사고일':'int'})"
      ],
      "metadata": {
        "id": "-h_l1WXsLPwi"
      },
      "execution_count": 119,
      "outputs": []
    },
    {
      "cell_type": "code",
      "source": [
        "#같은지의 여부를 확인하기 위한 연도확인, 월확인, 일확인 칼럼 생성 후 0으로 초기화\n",
        "accident['연도확인'] = 0\n",
        "accident['월확인'] = 0\n",
        "accident['일확인'] = 0\n",
        "\n",
        "#반복문을 이용해서 같다면 확인 칼럼의 값을 1로 바꿔줌\n",
        "for i in range(len(accident)):\n",
        "  if accident['사고연'][i] == accident['연'][i]:\n",
        "    accident['연도확인'][i] = 1\n",
        "\n",
        "for i in range(len(accident)):\n",
        "  if accident['사고월'][i] == accident['월'][i]:\n",
        "    accident['월확인'][i] = 1\n",
        "\n",
        "for i in range(len(accident)):\n",
        "  if accident['사고일'][i] == accident['일'][i]:\n",
        "    accident['일확인'][i] = 1"
      ],
      "metadata": {
        "colab": {
          "base_uri": "https://localhost:8080/"
        },
        "id": "ru-SPqRNLSF3",
        "outputId": "76ec5b1c-d791-424b-8292-27f7099affc0"
      },
      "execution_count": 120,
      "outputs": [
        {
          "output_type": "stream",
          "name": "stderr",
          "text": [
            "/usr/local/lib/python3.7/dist-packages/ipykernel_launcher.py:9: SettingWithCopyWarning: \n",
            "A value is trying to be set on a copy of a slice from a DataFrame\n",
            "\n",
            "See the caveats in the documentation: https://pandas.pydata.org/pandas-docs/stable/user_guide/indexing.html#returning-a-view-versus-a-copy\n",
            "  if __name__ == '__main__':\n",
            "/usr/local/lib/python3.7/dist-packages/ipykernel_launcher.py:13: SettingWithCopyWarning: \n",
            "A value is trying to be set on a copy of a slice from a DataFrame\n",
            "\n",
            "See the caveats in the documentation: https://pandas.pydata.org/pandas-docs/stable/user_guide/indexing.html#returning-a-view-versus-a-copy\n",
            "  del sys.path[0]\n",
            "/usr/local/lib/python3.7/dist-packages/ipykernel_launcher.py:17: SettingWithCopyWarning: \n",
            "A value is trying to be set on a copy of a slice from a DataFrame\n",
            "\n",
            "See the caveats in the documentation: https://pandas.pydata.org/pandas-docs/stable/user_guide/indexing.html#returning-a-view-versus-a-copy\n"
          ]
        }
      ]
    },
    {
      "cell_type": "code",
      "source": [
        "#연도, 월, 일확인 칼럼의 분포 확인\n",
        "accident['연도확인'].value_counts()"
      ],
      "metadata": {
        "colab": {
          "base_uri": "https://localhost:8080/"
        },
        "id": "Ov4sAnYWLTtx",
        "outputId": "84b67381-c92a-4371-d006-721ff3650021"
      },
      "execution_count": 121,
      "outputs": [
        {
          "output_type": "execute_result",
          "data": {
            "text/plain": [
              "1    1670\n",
              "Name: 연도확인, dtype: int64"
            ]
          },
          "metadata": {},
          "execution_count": 121
        }
      ]
    },
    {
      "cell_type": "code",
      "source": [
        "accident['월확인'].value_counts()"
      ],
      "metadata": {
        "colab": {
          "base_uri": "https://localhost:8080/"
        },
        "id": "AVkh5TApOtQZ",
        "outputId": "0cd5ef3d-9ffb-4286-da85-b7d01b2b9f80"
      },
      "execution_count": 122,
      "outputs": [
        {
          "output_type": "execute_result",
          "data": {
            "text/plain": [
              "1    1670\n",
              "Name: 월확인, dtype: int64"
            ]
          },
          "metadata": {},
          "execution_count": 122
        }
      ]
    },
    {
      "cell_type": "code",
      "source": [
        "accident['일확인'].value_counts()"
      ],
      "metadata": {
        "colab": {
          "base_uri": "https://localhost:8080/"
        },
        "id": "tLG1Q_IoOtsN",
        "outputId": "4a0ef3b0-37d2-4a96-e3ea-a5881b50effb"
      },
      "execution_count": 123,
      "outputs": [
        {
          "output_type": "execute_result",
          "data": {
            "text/plain": [
              "1    1670\n",
              "Name: 일확인, dtype: int64"
            ]
          },
          "metadata": {},
          "execution_count": 123
        }
      ]
    },
    {
      "cell_type": "markdown",
      "source": [
        "- 왜 사고번호랑 사고일시랑 다른 데이터가 존재하는거지?? 싶어서 데이터를 보니 강서구의 사고번호가 잘못 들어가 있었음\n",
        "  \n",
        "- 그래서 강서구 사고번호만 다시 넣었는데 전처리하기 전의 사고번호를 넣어서 그 뒤의 행정구역의 사고번호도 강서구의 사고번호로 덮였었음 → 확인하고 잘못 들어간 데이터 다시 고쳐 넣음"
      ],
      "metadata": {
        "id": "3U_35La4LVEn"
      }
    },
    {
      "cell_type": "markdown",
      "source": [
        "-----"
      ],
      "metadata": {
        "id": "8YiwmfYbLZjR"
      }
    },
    {
      "cell_type": "markdown",
      "source": [
        "- 이제 됐겠지 싶어서 accident[’어린이 보호구역’] 칼럼을 만드는 코드를 다시 진행함 (근데도 222개가 안나옴)\n",
        "  \n",
        "- 다시 데이터를 살펴봤는데 구글 스프레드시트(엑셀)에서 사고번호를 크기가 큰 숫자로 인식하여 지수형태로 바꿔놓고 그걸 파이썬에서 int로 변환하는 과정에서 맨 뒷자리가 다 0으로 변해버린 거였음\n",
        "  \n",
        "- 그래서 이거 csv로 하면 안된다고 판단함 → txt 파일을 사용하면 뒷자리가 날라가지 않는 것을 보고 그럼 txt 파일로 사용하되 사고번호를 다시 파이썬에서 붙여넣기로 결정함"
      ],
      "metadata": {
        "id": "9f316622LbVY"
      }
    },
    {
      "cell_type": "markdown",
      "source": [
        "------"
      ],
      "metadata": {
        "id": "QHNR-OGdLl7m"
      }
    },
    {
      "cell_type": "markdown",
      "source": [
        "- 그 전에, 행정구역별로 새로 데이터를 다운받아서 피해운전자 연령이 13세 이상이거나 미분류인 데이터를 엑셀에서 직접 삭제하기로 함\n",
        "  \n",
        "- 위의 조건대로 직접 삭제하고 난 행정구역별 데이터의 개수와 기존 accident 데이터의 해당 구 데이터 개수가 일치하는지 파이썬을 통해 확인한 후(제대로 삭제했는지 확인하는 과정), 직접 삭제한 데이터를 csv 파일로 구글 드라이브에 업로드함. 이후 새로 올린 데이터에 있는 제대로 된 사고번호 데이터를 기존 accident 데이터에 덮어씌움"
      ],
      "metadata": {
        "id": "GVgPqypDLm1W"
      }
    },
    {
      "cell_type": "code",
      "source": [
        "#해당 구 개수 확인 (구글미트로 회의하면서 실시간으로 확인)\n",
        "len(accident[accident['구']=='서대문구'].index)"
      ],
      "metadata": {
        "colab": {
          "base_uri": "https://localhost:8080/"
        },
        "id": "IVfMz7J3Lr3D",
        "outputId": "8090b89d-9bad-435e-a76b-ab5ea8c5b686"
      },
      "execution_count": 124,
      "outputs": [
        {
          "output_type": "execute_result",
          "data": {
            "text/plain": [
              "39"
            ]
          },
          "metadata": {},
          "execution_count": 124
        }
      ]
    },
    {
      "cell_type": "code",
      "source": [
        "#직접 전처리한 데이터 행정구역별로 불러오기\n",
        "new = pd.read_csv('/content/drive/MyDrive/거북R/데멘토/Data/행정구역별/accidentInfoList-서대문구 지운거.csv',encoding='cp949')"
      ],
      "metadata": {
        "id": "cqo7bWS7LtfG"
      },
      "execution_count": 125,
      "outputs": []
    },
    {
      "cell_type": "code",
      "source": [
        "#새로 불러온 데이터가 기존의 accident 데이터와 일치하는지 2차로 확인\n",
        "len(new)"
      ],
      "metadata": {
        "colab": {
          "base_uri": "https://localhost:8080/"
        },
        "id": "LNpjLu-eLucQ",
        "outputId": "69e6bea9-72a4-4afe-f250-0dd8715b3abd"
      },
      "execution_count": 126,
      "outputs": [
        {
          "output_type": "execute_result",
          "data": {
            "text/plain": [
              "39"
            ]
          },
          "metadata": {},
          "execution_count": 126
        }
      ]
    },
    {
      "cell_type": "code",
      "source": [
        "#맨 뒷자리가 0으로 바뀌지 않았는지 확인\n",
        "new['사고번호']"
      ],
      "metadata": {
        "colab": {
          "base_uri": "https://localhost:8080/"
        },
        "id": "uIq9oJhwLvO_",
        "outputId": "341dec70-7cb0-45a9-83dc-64450e85db75"
      },
      "execution_count": 127,
      "outputs": [
        {
          "output_type": "execute_result",
          "data": {
            "text/plain": [
              "0     2017012600100138\n",
              "1     2017021700100434\n",
              "2     2017021800100245\n",
              "3     2017031500100315\n",
              "4     2017041400100370\n",
              "5     2017042400100361\n",
              "6     2017050900100447\n",
              "7     2017051600100089\n",
              "8     2017052300100414\n",
              "9     2017052700100396\n",
              "10    2017080100100198\n",
              "11    2017082200100376\n",
              "12    2017101700100434\n",
              "13    2017112300100489\n",
              "14    2018021800100221\n",
              "15    2018033100100359\n",
              "16    2018041000100354\n",
              "17    2018052400100092\n",
              "18    2018061100100085\n",
              "19    2018080600100421\n",
              "20    2018081200100338\n",
              "21    2018121100100347\n",
              "22    2018121200100412\n",
              "23    2018121300100393\n",
              "24    2018123100100479\n",
              "25    2019012800100139\n",
              "26    2019031100100414\n",
              "27    2019050500100402\n",
              "28    2019060500100476\n",
              "29    2019061300100386\n",
              "30    2019070800100392\n",
              "31    2019071500100275\n",
              "32    2019071500100325\n",
              "33    2019082900100506\n",
              "34    2019083000100457\n",
              "35    2019091800100435\n",
              "36    2019092000100449\n",
              "37    2019092300100486\n",
              "38    2019122300100430\n",
              "Name: 사고번호, dtype: int64"
            ]
          },
          "metadata": {},
          "execution_count": 127
        }
      ]
    },
    {
      "cell_type": "code",
      "source": [
        "#해당 구가 기존 accident 데이터에서 어느 행에 있는지 (어디로 덮어씌울지) 확인\n",
        "accident[accident['구']=='서대문구'].index"
      ],
      "metadata": {
        "colab": {
          "base_uri": "https://localhost:8080/"
        },
        "id": "_4T8Y3CoLwkA",
        "outputId": "df80a1b5-61bb-4cfc-d975-7056275990fc"
      },
      "execution_count": 94,
      "outputs": [
        {
          "output_type": "execute_result",
          "data": {
            "text/plain": [
              "Int64Index([1093, 1094, 1095, 1096, 1097, 1098, 1099, 1100, 1101, 1102, 1103,\n",
              "            1104, 1105, 1106, 1107, 1108, 1109, 1110, 1111, 1112, 1113, 1114,\n",
              "            1115, 1116, 1117, 1118, 1119, 1120, 1121, 1122, 1123, 1124, 1125,\n",
              "            1126, 1127, 1128, 1129, 1130, 1131],\n",
              "           dtype='int64')"
            ]
          },
          "metadata": {},
          "execution_count": 94
        }
      ]
    },
    {
      "cell_type": "code",
      "source": [
        "#행정구역별 데이터 index 범위 위에서의 코드로 확인해서 재설정하고 새로 불러온 데이터로 덮어씌우기\n",
        "for i in range(1093,1132): #첫 index부터 마지막 index까지\n",
        "  accident['사고번호'][i] = new['사고번호'][i-1093] #i - 첫 index (new 데이터는 0부터 시작하므로)"
      ],
      "metadata": {
        "colab": {
          "base_uri": "https://localhost:8080/"
        },
        "id": "fop1FGjTLxZy",
        "outputId": "0a536c57-4925-4b9d-91c0-815b5b2d024b"
      },
      "execution_count": 95,
      "outputs": [
        {
          "output_type": "stream",
          "name": "stderr",
          "text": [
            "/usr/local/lib/python3.7/dist-packages/ipykernel_launcher.py:3: SettingWithCopyWarning: \n",
            "A value is trying to be set on a copy of a slice from a DataFrame\n",
            "\n",
            "See the caveats in the documentation: https://pandas.pydata.org/pandas-docs/stable/user_guide/indexing.html#returning-a-view-versus-a-copy\n",
            "  This is separate from the ipykernel package so we can avoid doing imports until\n"
          ]
        }
      ]
    },
    {
      "cell_type": "code",
      "source": [
        "#제대로 입력되었는지 확인\n",
        "accident['사고번호'][1093:1132]"
      ],
      "metadata": {
        "colab": {
          "base_uri": "https://localhost:8080/"
        },
        "id": "rMwyqyALLy5L",
        "outputId": "5292a594-e52a-4f02-f9f4-a5c4ab6bdfda"
      },
      "execution_count": 96,
      "outputs": [
        {
          "output_type": "execute_result",
          "data": {
            "text/plain": [
              "1093    2017012600100138\n",
              "1094    2017021700100434\n",
              "1095    2017021800100245\n",
              "1096    2017031500100315\n",
              "1097    2017041400100370\n",
              "1098    2017042400100361\n",
              "1099    2017050900100447\n",
              "1100    2017051600100089\n",
              "1101    2017052300100414\n",
              "1102    2017052700100396\n",
              "1103    2017080100100198\n",
              "1104    2017082200100376\n",
              "1105    2017101700100434\n",
              "1106    2017112300100489\n",
              "1107    2018021800100221\n",
              "1108    2018033100100359\n",
              "1109    2018041000100354\n",
              "1110    2018052400100092\n",
              "1111    2018061100100085\n",
              "1112    2018080600100421\n",
              "1113    2018081200100338\n",
              "1114    2018121100100347\n",
              "1115    2018121200100412\n",
              "1116    2018121300100393\n",
              "1117    2018123100100479\n",
              "1118    2019012800100139\n",
              "1119    2019031100100414\n",
              "1120    2019050500100402\n",
              "1121    2019060500100476\n",
              "1122    2019061300100386\n",
              "1123    2019070800100392\n",
              "1124    2019071500100275\n",
              "1125    2019071500100325\n",
              "1126    2019082900100506\n",
              "1127    2019083000100457\n",
              "1128    2019091800100435\n",
              "1129    2019092000100449\n",
              "1130    2019092300100486\n",
              "1131    2019122300100430\n",
              "Name: 사고번호, dtype: object"
            ]
          },
          "metadata": {},
          "execution_count": 96
        }
      ]
    },
    {
      "cell_type": "code",
      "source": [
        "#최종 데이터 txt 파일로 저장\n",
        "accident.to_csv('accident_final.txt',index=False)"
      ],
      "metadata": {
        "id": "TMdGfxvGL0i3"
      },
      "execution_count": 129,
      "outputs": []
    },
    {
      "cell_type": "markdown",
      "source": [
        "어린이 보호구역 내 교통사고 데이터도 csv로 사용하면 안되겠다 싶어서 얘도 txt 파일로 저장"
      ],
      "metadata": {
        "id": "Ko1ztaULL2KF"
      }
    },
    {
      "cell_type": "code",
      "source": [
        "#전처리 끝낸 최종 어린이 보호구역 내 교통사고 데이터 txt 파일로 저장\n",
        "child.to_csv('accident_child.txt',index=False)"
      ],
      "metadata": {
        "id": "W-M1bZWwL3nD"
      },
      "execution_count": 98,
      "outputs": []
    },
    {
      "cell_type": "markdown",
      "source": [
        "# 서울시 어린이 교통사고 데이터 최종 전처리"
      ],
      "metadata": {
        "id": "gBIgcXUuZKUB"
      }
    },
    {
      "cell_type": "markdown",
      "source": [
        "- 임시로 만든 사고연, 사고월, 사고일, 연도확인, 월확인, 일확인 칼럼을 삭제 안한 것을 발견하고 삭제함"
      ],
      "metadata": {
        "id": "qhT56138MmUY"
      }
    },
    {
      "cell_type": "code",
      "source": [
        "accident = pd.read_table('/content/drive/MyDrive/거북R/데멘토/Data/accident_final.txt',sep=',')"
      ],
      "metadata": {
        "id": "9vFYpoMGMrYd"
      },
      "execution_count": 136,
      "outputs": []
    },
    {
      "cell_type": "code",
      "source": [
        "#데이터 확인\n",
        "accident.info()"
      ],
      "metadata": {
        "colab": {
          "base_uri": "https://localhost:8080/"
        },
        "id": "Tr9Btt0TMsc5",
        "outputId": "55a2197a-11f9-4775-b433-e1c8f1f58af3"
      },
      "execution_count": 137,
      "outputs": [
        {
          "output_type": "stream",
          "name": "stdout",
          "text": [
            "<class 'pandas.core.frame.DataFrame'>\n",
            "RangeIndex: 1670 entries, 0 to 1669\n",
            "Data columns (total 35 columns):\n",
            " #   Column      Non-Null Count  Dtype  \n",
            "---  ------      --------------  -----  \n",
            " 0   사고번호        1670 non-null   int64  \n",
            " 1   사고일시        1670 non-null   object \n",
            " 2   연           1670 non-null   int64  \n",
            " 3   월           1670 non-null   int64  \n",
            " 4   일           1670 non-null   int64  \n",
            " 5   시           1670 non-null   int64  \n",
            " 6   요일          1670 non-null   object \n",
            " 7   구           1670 non-null   object \n",
            " 8   동           1670 non-null   object \n",
            " 9   위도          1670 non-null   float64\n",
            " 10  경도          1670 non-null   float64\n",
            " 11  사고내용        1670 non-null   int64  \n",
            " 12  사망자수        1670 non-null   int64  \n",
            " 13  중상자수        1670 non-null   int64  \n",
            " 14  경상자수        1670 non-null   int64  \n",
            " 15  부상신고자수      1670 non-null   int64  \n",
            " 16  사고유형        1670 non-null   object \n",
            " 17  법규위반        1670 non-null   object \n",
            " 18  노면상태        1670 non-null   object \n",
            " 19  기상상태        1670 non-null   object \n",
            " 20  도로형태        1670 non-null   object \n",
            " 21  도로상세        1670 non-null   object \n",
            " 22  가해운전자 성별    1670 non-null   object \n",
            " 23  가해운전자 연령    1670 non-null   int64  \n",
            " 24  가해운전자 상해정도  1670 non-null   object \n",
            " 25  피해운전자 성별    1670 non-null   object \n",
            " 26  피해운전자 연령    1670 non-null   int64  \n",
            " 27  피해운전자 상해정도  1670 non-null   object \n",
            " 28  어린이 보호구역    1670 non-null   int64  \n",
            " 29  사고연         1670 non-null   int64  \n",
            " 30  사고월         1670 non-null   int64  \n",
            " 31  사고일         1670 non-null   int64  \n",
            " 32  연도확인        1670 non-null   int64  \n",
            " 33  월확인         1670 non-null   int64  \n",
            " 34  일확인         1670 non-null   int64  \n",
            "dtypes: float64(2), int64(19), object(14)\n",
            "memory usage: 456.8+ KB\n"
          ]
        }
      ]
    },
    {
      "cell_type": "code",
      "source": [
        "#임시로 만들었던 사고연, 사고월, 사고일, 연도확인, 월확인, 일확인 칼럼 삭제\n",
        "accident.drop({'사고연','사고월','사고일','연도확인','월확인','일확인'}, axis=1, inplace=True)"
      ],
      "metadata": {
        "id": "tfC1QBwgMuvT"
      },
      "execution_count": 138,
      "outputs": []
    },
    {
      "cell_type": "code",
      "source": [
        "#삭제되었는지 확인\n",
        "accident.info()"
      ],
      "metadata": {
        "colab": {
          "base_uri": "https://localhost:8080/"
        },
        "id": "XbPp2R0hMxPD",
        "outputId": "10c67bcd-7648-4975-93e9-c52b3de1141f"
      },
      "execution_count": 139,
      "outputs": [
        {
          "output_type": "stream",
          "name": "stdout",
          "text": [
            "<class 'pandas.core.frame.DataFrame'>\n",
            "RangeIndex: 1670 entries, 0 to 1669\n",
            "Data columns (total 29 columns):\n",
            " #   Column      Non-Null Count  Dtype  \n",
            "---  ------      --------------  -----  \n",
            " 0   사고번호        1670 non-null   int64  \n",
            " 1   사고일시        1670 non-null   object \n",
            " 2   연           1670 non-null   int64  \n",
            " 3   월           1670 non-null   int64  \n",
            " 4   일           1670 non-null   int64  \n",
            " 5   시           1670 non-null   int64  \n",
            " 6   요일          1670 non-null   object \n",
            " 7   구           1670 non-null   object \n",
            " 8   동           1670 non-null   object \n",
            " 9   위도          1670 non-null   float64\n",
            " 10  경도          1670 non-null   float64\n",
            " 11  사고내용        1670 non-null   int64  \n",
            " 12  사망자수        1670 non-null   int64  \n",
            " 13  중상자수        1670 non-null   int64  \n",
            " 14  경상자수        1670 non-null   int64  \n",
            " 15  부상신고자수      1670 non-null   int64  \n",
            " 16  사고유형        1670 non-null   object \n",
            " 17  법규위반        1670 non-null   object \n",
            " 18  노면상태        1670 non-null   object \n",
            " 19  기상상태        1670 non-null   object \n",
            " 20  도로형태        1670 non-null   object \n",
            " 21  도로상세        1670 non-null   object \n",
            " 22  가해운전자 성별    1670 non-null   object \n",
            " 23  가해운전자 연령    1670 non-null   int64  \n",
            " 24  가해운전자 상해정도  1670 non-null   object \n",
            " 25  피해운전자 성별    1670 non-null   object \n",
            " 26  피해운전자 연령    1670 non-null   int64  \n",
            " 27  피해운전자 상해정도  1670 non-null   object \n",
            " 28  어린이 보호구역    1670 non-null   int64  \n",
            "dtypes: float64(2), int64(13), object(14)\n",
            "memory usage: 378.5+ KB\n"
          ]
        }
      ]
    },
    {
      "cell_type": "markdown",
      "source": [
        "- 가해운전자 차종이 삭제된 것을 발견하고 가해운전자 차종을 위에서 사고번호를 넣은 코드를 조금 더 발전시켜서 넣기로 결정"
      ],
      "metadata": {
        "id": "JxTJujAoMzCR"
      }
    },
    {
      "cell_type": "code",
      "source": [
        "accident['구'].unique()"
      ],
      "metadata": {
        "colab": {
          "base_uri": "https://localhost:8080/"
        },
        "id": "MaMESephM5xZ",
        "outputId": "81e45a04-9104-499a-8e97-ba14d1d9e97f"
      },
      "execution_count": 140,
      "outputs": [
        {
          "output_type": "execute_result",
          "data": {
            "text/plain": [
              "array(['관악구', '서초구', '송파구', '강남구', '강동구', '강북구', '강서구', '광진구', '구로구',\n",
              "       '금천구', '노원구', '도봉구', '동대문구', '동작구', '마포구', '서대문구', '성동구', '성북구',\n",
              "       '양천구', '영등포구', '용산구', '은평구', '종로구', '중구', '중랑구'], dtype=object)"
            ]
          },
          "metadata": {},
          "execution_count": 140
        }
      ]
    },
    {
      "cell_type": "code",
      "source": [
        "area = list(accident['구'].unique())\n",
        "area"
      ],
      "metadata": {
        "colab": {
          "base_uri": "https://localhost:8080/"
        },
        "id": "K-q60q0SM6oZ",
        "outputId": "6c4991d5-61b7-4e4b-80ac-e7f1c86bcf4a"
      },
      "execution_count": 141,
      "outputs": [
        {
          "output_type": "execute_result",
          "data": {
            "text/plain": [
              "['관악구',\n",
              " '서초구',\n",
              " '송파구',\n",
              " '강남구',\n",
              " '강동구',\n",
              " '강북구',\n",
              " '강서구',\n",
              " '광진구',\n",
              " '구로구',\n",
              " '금천구',\n",
              " '노원구',\n",
              " '도봉구',\n",
              " '동대문구',\n",
              " '동작구',\n",
              " '마포구',\n",
              " '서대문구',\n",
              " '성동구',\n",
              " '성북구',\n",
              " '양천구',\n",
              " '영등포구',\n",
              " '용산구',\n",
              " '은평구',\n",
              " '종로구',\n",
              " '중구',\n",
              " '중랑구']"
            ]
          },
          "metadata": {},
          "execution_count": 141
        }
      ]
    },
    {
      "cell_type": "code",
      "source": [
        "#가해운전자 차종 칼럼 만들고 0으로 초기화\n",
        "accident.insert(22,'가해운전자 차종',0)"
      ],
      "metadata": {
        "id": "QWDQRx8EM7qg"
      },
      "execution_count": 142,
      "outputs": []
    },
    {
      "cell_type": "code",
      "source": [
        "#초기화 확인\n",
        "accident['가해운전자 차종']"
      ],
      "metadata": {
        "colab": {
          "base_uri": "https://localhost:8080/"
        },
        "id": "RdvgZHxUM8lC",
        "outputId": "44c3c045-5907-42d3-d96b-5072d675920e"
      },
      "execution_count": 143,
      "outputs": [
        {
          "output_type": "execute_result",
          "data": {
            "text/plain": [
              "0       0\n",
              "1       0\n",
              "2       0\n",
              "3       0\n",
              "4       0\n",
              "       ..\n",
              "1665    0\n",
              "1666    0\n",
              "1667    0\n",
              "1668    0\n",
              "1669    0\n",
              "Name: 가해운전자 차종, Length: 1670, dtype: int64"
            ]
          },
          "metadata": {},
          "execution_count": 143
        }
      ]
    },
    {
      "cell_type": "code",
      "source": [
        "#모든 행정구역의 가해운전자 차종 데이터 넣기\n",
        "for i in range(len(area)):\n",
        "  address = '/content/drive/MyDrive/거북R/데멘토/Data/행정구역별/accidentInfoList-' + area[i] + ' 지운거.csv'\n",
        "  new = pd.read_csv(address,encoding='cp949')\n",
        "  index = accident[accident['구']==area[i]].index #accident 데이터에서 각 행정구역의 데이터 index\n",
        "  if len(new) == len(index):\n",
        "    for i in range(min(index),max(index)+1): #첫 index부터 마지막 index까지\n",
        "      accident['가해운전자 차종'][i] = new['가해운전자 차종'][i-min(index)]"
      ],
      "metadata": {
        "colab": {
          "base_uri": "https://localhost:8080/"
        },
        "id": "_G8seZxKM9wq",
        "outputId": "66ec044d-b83d-41d1-efa4-3644ecc83d0a"
      },
      "execution_count": 144,
      "outputs": [
        {
          "output_type": "stream",
          "name": "stderr",
          "text": [
            "/usr/local/lib/python3.7/dist-packages/ipykernel_launcher.py:8: SettingWithCopyWarning: \n",
            "A value is trying to be set on a copy of a slice from a DataFrame\n",
            "\n",
            "See the caveats in the documentation: https://pandas.pydata.org/pandas-docs/stable/user_guide/indexing.html#returning-a-view-versus-a-copy\n",
            "  \n",
            "/usr/local/lib/python3.7/dist-packages/pandas/core/indexing.py:1732: SettingWithCopyWarning: \n",
            "A value is trying to be set on a copy of a slice from a DataFrame\n",
            "\n",
            "See the caveats in the documentation: https://pandas.pydata.org/pandas-docs/stable/user_guide/indexing.html#returning-a-view-versus-a-copy\n",
            "  self._setitem_single_block(indexer, value, name)\n"
          ]
        }
      ]
    },
    {
      "cell_type": "code",
      "source": [
        "accident.info()"
      ],
      "metadata": {
        "colab": {
          "base_uri": "https://localhost:8080/"
        },
        "id": "Ze4FhLZBM-sS",
        "outputId": "bc10a6d0-7eb4-42d8-bb0e-7d6f834de036"
      },
      "execution_count": 145,
      "outputs": [
        {
          "output_type": "stream",
          "name": "stdout",
          "text": [
            "<class 'pandas.core.frame.DataFrame'>\n",
            "RangeIndex: 1670 entries, 0 to 1669\n",
            "Data columns (total 30 columns):\n",
            " #   Column      Non-Null Count  Dtype  \n",
            "---  ------      --------------  -----  \n",
            " 0   사고번호        1670 non-null   int64  \n",
            " 1   사고일시        1670 non-null   object \n",
            " 2   연           1670 non-null   int64  \n",
            " 3   월           1670 non-null   int64  \n",
            " 4   일           1670 non-null   int64  \n",
            " 5   시           1670 non-null   int64  \n",
            " 6   요일          1670 non-null   object \n",
            " 7   구           1670 non-null   object \n",
            " 8   동           1670 non-null   object \n",
            " 9   위도          1670 non-null   float64\n",
            " 10  경도          1670 non-null   float64\n",
            " 11  사고내용        1670 non-null   int64  \n",
            " 12  사망자수        1670 non-null   int64  \n",
            " 13  중상자수        1670 non-null   int64  \n",
            " 14  경상자수        1670 non-null   int64  \n",
            " 15  부상신고자수      1670 non-null   int64  \n",
            " 16  사고유형        1670 non-null   object \n",
            " 17  법규위반        1670 non-null   object \n",
            " 18  노면상태        1670 non-null   object \n",
            " 19  기상상태        1670 non-null   object \n",
            " 20  도로형태        1670 non-null   object \n",
            " 21  도로상세        1670 non-null   object \n",
            " 22  가해운전자 차종    1670 non-null   object \n",
            " 23  가해운전자 성별    1670 non-null   object \n",
            " 24  가해운전자 연령    1670 non-null   int64  \n",
            " 25  가해운전자 상해정도  1670 non-null   object \n",
            " 26  피해운전자 성별    1670 non-null   object \n",
            " 27  피해운전자 연령    1670 non-null   int64  \n",
            " 28  피해운전자 상해정도  1670 non-null   object \n",
            " 29  어린이 보호구역    1670 non-null   int64  \n",
            "dtypes: float64(2), int64(13), object(15)\n",
            "memory usage: 391.5+ KB\n"
          ]
        }
      ]
    },
    {
      "cell_type": "code",
      "source": [
        "#값 입력되었는지 확인\n",
        "accident['가해운전자 차종']"
      ],
      "metadata": {
        "colab": {
          "base_uri": "https://localhost:8080/"
        },
        "id": "4Vo-leKxM_sL",
        "outputId": "d831af9b-b79d-488f-a4bd-41ed8693d5f9"
      },
      "execution_count": 146,
      "outputs": [
        {
          "output_type": "execute_result",
          "data": {
            "text/plain": [
              "0        승용\n",
              "1        승용\n",
              "2        승용\n",
              "3       원동기\n",
              "4        이륜\n",
              "       ... \n",
              "1665     이륜\n",
              "1666     이륜\n",
              "1667     승용\n",
              "1668     화물\n",
              "1669     화물\n",
              "Name: 가해운전자 차종, Length: 1670, dtype: object"
            ]
          },
          "metadata": {},
          "execution_count": 146
        }
      ]
    },
    {
      "cell_type": "code",
      "source": [
        "#최종 데이터 txt 파일로 저장\n",
        "accident.to_csv('accident.txt', index=False)"
      ],
      "metadata": {
        "id": "CGZvjYbWNAlM"
      },
      "execution_count": 147,
      "outputs": []
    }
  ]
}